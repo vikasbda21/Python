{
  "cells": [
    {
      "cell_type": "markdown",
      "metadata": {
        "id": "view-in-github",
        "colab_type": "text"
      },
      "source": [
        "<a href=\"https://colab.research.google.com/github/vikasbda21/Python/blob/main/Pandas_Read_and_Write_2.ipynb\" target=\"_parent\"><img src=\"https://colab.research.google.com/assets/colab-badge.svg\" alt=\"Open In Colab\"/></a>"
      ]
    },
    {
      "cell_type": "markdown",
      "id": "4c496701",
      "metadata": {
        "id": "4c496701"
      },
      "source": [
        "### Pandas\n",
        "pandas is a software library written for the Python programming language for data manipulation and analysis. In particular, it offers data structures and operations for manipulating numerical tables and time series."
      ]
    },
    {
      "cell_type": "markdown",
      "id": "ec011761",
      "metadata": {
        "id": "ec011761"
      },
      "source": [
        "### Series:-\n",
        "Pandas Series is a one-dimensional labeled array capable of holding data of any type (integer, string, float, python objects, etc.). The axis labels are collectively called index."
      ]
    },
    {
      "cell_type": "code",
      "execution_count": null,
      "id": "5987f8e2",
      "metadata": {
        "id": "5987f8e2"
      },
      "outputs": [],
      "source": [
        "# import pandas library\n",
        "import pandas as pd\n",
        "import numpy as np"
      ]
    },
    {
      "cell_type": "code",
      "execution_count": null,
      "id": "5c6c7fb1",
      "metadata": {
        "id": "5c6c7fb1",
        "outputId": "61f865ae-046b-4826-d76b-7048f7bd74cc"
      },
      "outputs": [
        {
          "name": "stdout",
          "output_type": "stream",
          "text": [
            "Series([], dtype: float64)\n"
          ]
        }
      ],
      "source": [
        "# create empty series\n",
        "s = pd.Series(dtype = 'float64')\n",
        "print(s)"
      ]
    },
    {
      "cell_type": "code",
      "execution_count": null,
      "id": "5636c644",
      "metadata": {
        "id": "5636c644",
        "outputId": "6858c59b-bc37-4f85-cf4a-b5889925f384"
      },
      "outputs": [
        {
          "name": "stdout",
          "output_type": "stream",
          "text": [
            "0     1\n",
            "1     2\n",
            "2     3\n",
            "3    45\n",
            "dtype: int32\n"
          ]
        }
      ],
      "source": [
        "# Creating a series from array\n",
        "data = np.array([1,2,3,45])\n",
        "\n",
        "s = pd.Series(data)\n",
        "print(s)"
      ]
    },
    {
      "cell_type": "code",
      "execution_count": null,
      "id": "f463e018",
      "metadata": {
        "id": "f463e018",
        "outputId": "4c29cb5f-b9d5-42d6-b738-3115bba45d1a"
      },
      "outputs": [
        {
          "name": "stdout",
          "output_type": "stream",
          "text": [
            "A     1\n",
            "B     2\n",
            "C     3\n",
            "D    45\n",
            "dtype: int32\n"
          ]
        }
      ],
      "source": [
        "data = np.array([1,2,3,45])\n",
        "\n",
        "s = pd.Series(data, index=['A','B','C','D'])\n",
        "print(s) a\n",
        "B    b\n",
        "C    c\n",
        "D    d\n",
        "dtype: object"
      ]
    },
    {
      "cell_type": "code",
      "execution_count": null,
      "id": "c77c00e7",
      "metadata": {
        "id": "c77c00e7",
        "outputId": "269c38ba-93c8-47d8-b95a-a0e0afa542f1"
      },
      "outputs": [
        {
          "name": "stdout",
          "output_type": "stream",
          "text": [
            "A    a\n",
            "B    b\n",
            "C    c\n",
            "D    d\n",
            "dtype: object\n"
          ]
        }
      ],
      "source": [
        "data = np.array(['a','b','c','d'])\n",
        "\n",
        "s = pd.Series(data, index=['A','B','C','D'])\n",
        "print(s)"
      ]
    },
    {
      "cell_type": "code",
      "execution_count": null,
      "id": "63d919a2",
      "metadata": {
        "id": "63d919a2",
        "outputId": "f01d12aa-b930-495b-a45d-a785a6088b70"
      },
      "outputs": [
        {
          "data": {
            "text/plain": [
              "'c'"
            ]
          },
          "execution_count": 46,
          "metadata": {},
          "output_type": "execute_result"
        }
      ],
      "source": [
        "# Indexing and selecting data in series\n",
        "s['C']"
      ]
    },
    {
      "cell_type": "code",
      "execution_count": null,
      "id": "d96789b3",
      "metadata": {
        "id": "d96789b3",
        "outputId": "6a00ad7c-4557-4e53-a571-461d08c5719c"
      },
      "outputs": [
        {
          "data": {
            "text/plain": [
              "A    a\n",
              "B    b\n",
              "dtype: object"
            ]
          },
          "execution_count": 48,
          "metadata": {},
          "output_type": "execute_result"
        }
      ],
      "source": [
        "s[:2]"
      ]
    },
    {
      "cell_type": "markdown",
      "id": "d60a3f0b",
      "metadata": {
        "id": "d60a3f0b"
      },
      "source": [
        "### DataFrame:-\n",
        "A DataFrame is a data structure that organizes data into a 2-dimensional table of rows and columns."
      ]
    },
    {
      "cell_type": "code",
      "execution_count": null,
      "id": "f45bf348",
      "metadata": {
        "id": "f45bf348",
        "outputId": "a4415f30-6a45-4f9d-aba6-8e51e4e693ca"
      },
      "outputs": [
        {
          "name": "stdout",
          "output_type": "stream",
          "text": [
            "Empty DataFrame\n",
            "Columns: []\n",
            "Index: []\n"
          ]
        }
      ],
      "source": [
        "# create an Empty DataFrame object\n",
        "df = pd.DataFrame()\n",
        "\n",
        "print(df)"
      ]
    },
    {
      "cell_type": "code",
      "execution_count": null,
      "id": "a0290623",
      "metadata": {
        "id": "a0290623",
        "outputId": "cb25fb4e-2e60-48d2-9e34-6b3c201655d7"
      },
      "outputs": [
        {
          "name": "stdout",
          "output_type": "stream",
          "text": [
            "    0   1   2   3\n",
            "0   0   1   2   3\n",
            "1   4   5   6   7\n",
            "2   8   9  10  11\n",
            "3  12  13  14  15\n",
            "4  16  17  18  19\n"
          ]
        }
      ],
      "source": [
        "# Create dataframe using array\n",
        "df = pd.DataFrame(np.arange(0,20).reshape(5,4))\n",
        "print(df)"
      ]
    },
    {
      "cell_type": "code",
      "execution_count": null,
      "id": "d5159dcf",
      "metadata": {
        "id": "d5159dcf",
        "outputId": "14056449-fa52-4a4a-f7f1-91ccec8ff0c0"
      },
      "outputs": [
        {
          "name": "stdout",
          "output_type": "stream",
          "text": [
            "      col1  col2  col3  col4\n",
            "row1     0     1     2     3\n",
            "row2     4     5     6     7\n",
            "row3     8     9    10    11\n",
            "row4    12    13    14    15\n",
            "row5    16    17    18    19\n"
          ]
        }
      ],
      "source": [
        "# Create dataframe using array\n",
        "df = pd.DataFrame(np.arange(0,20).reshape(5,4), index=['row1','row2','row3','row4','row5'], columns=['col1','col2','col3','col4'])\n",
        "print(df)"
      ]
    },
    {
      "cell_type": "code",
      "execution_count": null,
      "id": "efd860d3",
      "metadata": {
        "id": "efd860d3",
        "outputId": "23cb82ad-6bae-4483-ccf2-0d3a3920d010"
      },
      "outputs": [
        {
          "name": "stdout",
          "output_type": "stream",
          "text": [
            "          Name  Age  Score\n",
            "0      Abhinav   22     28\n",
            "1         Arun   24     27\n",
            "2  Chandra D K   30     29\n",
            "3       Harish   28     28\n"
          ]
        }
      ],
      "source": [
        "# Create DataFrame from Dict of list\n",
        "data = {'Name':['Abhinav','Arun','Chandra D K', 'Harish'], 'Age':[22,24,30,28], 'Score':[28,27,29,28]}\n",
        "df = pd.DataFrame(data)\n",
        "print(df)"
      ]
    },
    {
      "cell_type": "code",
      "execution_count": null,
      "id": "f5c3fe02",
      "metadata": {
        "id": "f5c3fe02",
        "outputId": "85ead475-066c-442c-a698-9f04820b241f"
      },
      "outputs": [
        {
          "data": {
            "text/html": [
              "<div>\n",
              "<style scoped>\n",
              "    .dataframe tbody tr th:only-of-type {\n",
              "        vertical-align: middle;\n",
              "    }\n",
              "\n",
              "    .dataframe tbody tr th {\n",
              "        vertical-align: top;\n",
              "    }\n",
              "\n",
              "    .dataframe thead th {\n",
              "        text-align: right;\n",
              "    }\n",
              "</style>\n",
              "<table border=\"1\" class=\"dataframe\">\n",
              "  <thead>\n",
              "    <tr style=\"text-align: right;\">\n",
              "      <th></th>\n",
              "      <th>0</th>\n",
              "    </tr>\n",
              "  </thead>\n",
              "  <tbody>\n",
              "    <tr>\n",
              "      <th>0</th>\n",
              "      <td>23.0</td>\n",
              "    </tr>\n",
              "    <tr>\n",
              "      <th>1</th>\n",
              "      <td>56.0</td>\n",
              "    </tr>\n",
              "    <tr>\n",
              "      <th>2</th>\n",
              "      <td>NaN</td>\n",
              "    </tr>\n",
              "    <tr>\n",
              "      <th>3</th>\n",
              "      <td>45.0</td>\n",
              "    </tr>\n",
              "    <tr>\n",
              "      <th>4</th>\n",
              "      <td>77.0</td>\n",
              "    </tr>\n",
              "  </tbody>\n",
              "</table>\n",
              "</div>"
            ],
            "text/plain": [
              "      0\n",
              "0  23.0\n",
              "1  56.0\n",
              "2   NaN\n",
              "3  45.0\n",
              "4  77.0"
            ]
          },
          "execution_count": 60,
          "metadata": {},
          "output_type": "execute_result"
        }
      ],
      "source": [
        "# Nan-Not a Number\n",
        "data = np.array([23,56,np.nan,45,77])\n",
        "df = pd.DataFrame(data)\n",
        "df"
      ]
    },
    {
      "cell_type": "code",
      "execution_count": null,
      "id": "9eed13cc",
      "metadata": {
        "id": "9eed13cc"
      },
      "outputs": [],
      "source": [
        "data = np.random.rand(10,5)\n"
      ]
    },
    {
      "cell_type": "code",
      "execution_count": null,
      "id": "19d387ff",
      "metadata": {
        "id": "19d387ff",
        "outputId": "1e78c12d-89f1-4be3-b731-35f237b56cfb"
      },
      "outputs": [
        {
          "data": {
            "text/html": [
              "<div>\n",
              "<style scoped>\n",
              "    .dataframe tbody tr th:only-of-type {\n",
              "        vertical-align: middle;\n",
              "    }\n",
              "\n",
              "    .dataframe tbody tr th {\n",
              "        vertical-align: top;\n",
              "    }\n",
              "\n",
              "    .dataframe thead th {\n",
              "        text-align: right;\n",
              "    }\n",
              "</style>\n",
              "<table border=\"1\" class=\"dataframe\">\n",
              "  <thead>\n",
              "    <tr style=\"text-align: right;\">\n",
              "      <th></th>\n",
              "      <th>col1</th>\n",
              "      <th>col2</th>\n",
              "      <th>col3</th>\n",
              "      <th>col4</th>\n",
              "      <th>col5</th>\n",
              "    </tr>\n",
              "  </thead>\n",
              "  <tbody>\n",
              "    <tr>\n",
              "      <th>row1</th>\n",
              "      <td>0.564562</td>\n",
              "      <td>0.228758</td>\n",
              "      <td>0.724750</td>\n",
              "      <td>0.928026</td>\n",
              "      <td>0.787264</td>\n",
              "    </tr>\n",
              "    <tr>\n",
              "      <th>row2</th>\n",
              "      <td>0.865509</td>\n",
              "      <td>0.414917</td>\n",
              "      <td>0.321581</td>\n",
              "      <td>0.451109</td>\n",
              "      <td>0.990638</td>\n",
              "    </tr>\n",
              "    <tr>\n",
              "      <th>row3</th>\n",
              "      <td>0.957848</td>\n",
              "      <td>0.621455</td>\n",
              "      <td>0.872263</td>\n",
              "      <td>0.114905</td>\n",
              "      <td>0.694732</td>\n",
              "    </tr>\n",
              "    <tr>\n",
              "      <th>row4</th>\n",
              "      <td>0.317213</td>\n",
              "      <td>0.146126</td>\n",
              "      <td>0.137811</td>\n",
              "      <td>0.917500</td>\n",
              "      <td>0.009754</td>\n",
              "    </tr>\n",
              "    <tr>\n",
              "      <th>row5</th>\n",
              "      <td>0.588448</td>\n",
              "      <td>0.120439</td>\n",
              "      <td>0.869203</td>\n",
              "      <td>0.705845</td>\n",
              "      <td>0.366290</td>\n",
              "    </tr>\n",
              "    <tr>\n",
              "      <th>row6</th>\n",
              "      <td>0.727283</td>\n",
              "      <td>0.798770</td>\n",
              "      <td>0.974376</td>\n",
              "      <td>0.956268</td>\n",
              "      <td>0.648735</td>\n",
              "    </tr>\n",
              "    <tr>\n",
              "      <th>row7</th>\n",
              "      <td>0.604266</td>\n",
              "      <td>0.809422</td>\n",
              "      <td>0.674438</td>\n",
              "      <td>0.728951</td>\n",
              "      <td>0.640612</td>\n",
              "    </tr>\n",
              "    <tr>\n",
              "      <th>row8</th>\n",
              "      <td>0.639005</td>\n",
              "      <td>0.102897</td>\n",
              "      <td>0.700446</td>\n",
              "      <td>0.690821</td>\n",
              "      <td>0.016842</td>\n",
              "    </tr>\n",
              "    <tr>\n",
              "      <th>row9</th>\n",
              "      <td>0.425794</td>\n",
              "      <td>0.795606</td>\n",
              "      <td>0.410517</td>\n",
              "      <td>0.423007</td>\n",
              "      <td>0.107855</td>\n",
              "    </tr>\n",
              "    <tr>\n",
              "      <th>row10</th>\n",
              "      <td>0.576991</td>\n",
              "      <td>0.221609</td>\n",
              "      <td>0.518276</td>\n",
              "      <td>0.298123</td>\n",
              "      <td>0.135029</td>\n",
              "    </tr>\n",
              "  </tbody>\n",
              "</table>\n",
              "</div>"
            ],
            "text/plain": [
              "           col1      col2      col3      col4      col5\n",
              "row1   0.564562  0.228758  0.724750  0.928026  0.787264\n",
              "row2   0.865509  0.414917  0.321581  0.451109  0.990638\n",
              "row3   0.957848  0.621455  0.872263  0.114905  0.694732\n",
              "row4   0.317213  0.146126  0.137811  0.917500  0.009754\n",
              "row5   0.588448  0.120439  0.869203  0.705845  0.366290\n",
              "row6   0.727283  0.798770  0.974376  0.956268  0.648735\n",
              "row7   0.604266  0.809422  0.674438  0.728951  0.640612\n",
              "row8   0.639005  0.102897  0.700446  0.690821  0.016842\n",
              "row9   0.425794  0.795606  0.410517  0.423007  0.107855\n",
              "row10  0.576991  0.221609  0.518276  0.298123  0.135029"
            ]
          },
          "execution_count": 67,
          "metadata": {},
          "output_type": "execute_result"
        }
      ],
      "source": [
        "df = pd.DataFrame(data, index=['row1','row2','row3','row4','row5','row6','row7','row8','row9','row10'], columns=['col1','col2','col3','col4','col5'])\n",
        "df"
      ]
    },
    {
      "cell_type": "code",
      "execution_count": null,
      "id": "fffbec3a",
      "metadata": {
        "id": "fffbec3a",
        "outputId": "a9cdf792-b217-4df7-c1bd-be5f60cd2097"
      },
      "outputs": [
        {
          "data": {
            "text/html": [
              "<div>\n",
              "<style scoped>\n",
              "    .dataframe tbody tr th:only-of-type {\n",
              "        vertical-align: middle;\n",
              "    }\n",
              "\n",
              "    .dataframe tbody tr th {\n",
              "        vertical-align: top;\n",
              "    }\n",
              "\n",
              "    .dataframe thead th {\n",
              "        text-align: right;\n",
              "    }\n",
              "</style>\n",
              "<table border=\"1\" class=\"dataframe\">\n",
              "  <thead>\n",
              "    <tr style=\"text-align: right;\">\n",
              "      <th></th>\n",
              "      <th>col1</th>\n",
              "      <th>col2</th>\n",
              "      <th>col3</th>\n",
              "      <th>col4</th>\n",
              "      <th>col5</th>\n",
              "    </tr>\n",
              "  </thead>\n",
              "  <tbody>\n",
              "    <tr>\n",
              "      <th>row1</th>\n",
              "      <td>0.564562</td>\n",
              "      <td>0.228758</td>\n",
              "      <td>0.724750</td>\n",
              "      <td>0.928026</td>\n",
              "      <td>0.787264</td>\n",
              "    </tr>\n",
              "    <tr>\n",
              "      <th>row2</th>\n",
              "      <td>0.865509</td>\n",
              "      <td>0.414917</td>\n",
              "      <td>0.321581</td>\n",
              "      <td>0.451109</td>\n",
              "      <td>0.990638</td>\n",
              "    </tr>\n",
              "    <tr>\n",
              "      <th>row3</th>\n",
              "      <td>0.957848</td>\n",
              "      <td>0.621455</td>\n",
              "      <td>0.872263</td>\n",
              "      <td>0.114905</td>\n",
              "      <td>0.694732</td>\n",
              "    </tr>\n",
              "    <tr>\n",
              "      <th>row4</th>\n",
              "      <td>0.317213</td>\n",
              "      <td>0.146126</td>\n",
              "      <td>0.137811</td>\n",
              "      <td>0.917500</td>\n",
              "      <td>0.009754</td>\n",
              "    </tr>\n",
              "    <tr>\n",
              "      <th>row5</th>\n",
              "      <td>0.588448</td>\n",
              "      <td>0.120439</td>\n",
              "      <td>0.869203</td>\n",
              "      <td>0.705845</td>\n",
              "      <td>0.366290</td>\n",
              "    </tr>\n",
              "  </tbody>\n",
              "</table>\n",
              "</div>"
            ],
            "text/plain": [
              "          col1      col2      col3      col4      col5\n",
              "row1  0.564562  0.228758  0.724750  0.928026  0.787264\n",
              "row2  0.865509  0.414917  0.321581  0.451109  0.990638\n",
              "row3  0.957848  0.621455  0.872263  0.114905  0.694732\n",
              "row4  0.317213  0.146126  0.137811  0.917500  0.009754\n",
              "row5  0.588448  0.120439  0.869203  0.705845  0.366290"
            ]
          },
          "execution_count": 69,
          "metadata": {},
          "output_type": "execute_result"
        }
      ],
      "source": [
        "# head() function\n",
        "df.head()"
      ]
    },
    {
      "cell_type": "code",
      "execution_count": null,
      "id": "05629d4e",
      "metadata": {
        "id": "05629d4e",
        "outputId": "6a1cbb98-12d5-466e-f5f8-2bfff9f65b2d"
      },
      "outputs": [
        {
          "data": {
            "text/html": [
              "<div>\n",
              "<style scoped>\n",
              "    .dataframe tbody tr th:only-of-type {\n",
              "        vertical-align: middle;\n",
              "    }\n",
              "\n",
              "    .dataframe tbody tr th {\n",
              "        vertical-align: top;\n",
              "    }\n",
              "\n",
              "    .dataframe thead th {\n",
              "        text-align: right;\n",
              "    }\n",
              "</style>\n",
              "<table border=\"1\" class=\"dataframe\">\n",
              "  <thead>\n",
              "    <tr style=\"text-align: right;\">\n",
              "      <th></th>\n",
              "      <th>col1</th>\n",
              "      <th>col2</th>\n",
              "      <th>col3</th>\n",
              "      <th>col4</th>\n",
              "      <th>col5</th>\n",
              "    </tr>\n",
              "  </thead>\n",
              "  <tbody>\n",
              "    <tr>\n",
              "      <th>row6</th>\n",
              "      <td>0.727283</td>\n",
              "      <td>0.798770</td>\n",
              "      <td>0.974376</td>\n",
              "      <td>0.956268</td>\n",
              "      <td>0.648735</td>\n",
              "    </tr>\n",
              "    <tr>\n",
              "      <th>row7</th>\n",
              "      <td>0.604266</td>\n",
              "      <td>0.809422</td>\n",
              "      <td>0.674438</td>\n",
              "      <td>0.728951</td>\n",
              "      <td>0.640612</td>\n",
              "    </tr>\n",
              "    <tr>\n",
              "      <th>row8</th>\n",
              "      <td>0.639005</td>\n",
              "      <td>0.102897</td>\n",
              "      <td>0.700446</td>\n",
              "      <td>0.690821</td>\n",
              "      <td>0.016842</td>\n",
              "    </tr>\n",
              "    <tr>\n",
              "      <th>row9</th>\n",
              "      <td>0.425794</td>\n",
              "      <td>0.795606</td>\n",
              "      <td>0.410517</td>\n",
              "      <td>0.423007</td>\n",
              "      <td>0.107855</td>\n",
              "    </tr>\n",
              "    <tr>\n",
              "      <th>row10</th>\n",
              "      <td>0.576991</td>\n",
              "      <td>0.221609</td>\n",
              "      <td>0.518276</td>\n",
              "      <td>0.298123</td>\n",
              "      <td>0.135029</td>\n",
              "    </tr>\n",
              "  </tbody>\n",
              "</table>\n",
              "</div>"
            ],
            "text/plain": [
              "           col1      col2      col3      col4      col5\n",
              "row6   0.727283  0.798770  0.974376  0.956268  0.648735\n",
              "row7   0.604266  0.809422  0.674438  0.728951  0.640612\n",
              "row8   0.639005  0.102897  0.700446  0.690821  0.016842\n",
              "row9   0.425794  0.795606  0.410517  0.423007  0.107855\n",
              "row10  0.576991  0.221609  0.518276  0.298123  0.135029"
            ]
          },
          "execution_count": 70,
          "metadata": {},
          "output_type": "execute_result"
        }
      ],
      "source": [
        "# tail() function\n",
        "df.tail()"
      ]
    },
    {
      "cell_type": "code",
      "execution_count": null,
      "id": "420d7bfa",
      "metadata": {
        "id": "420d7bfa",
        "outputId": "fd7eac88-7d27-47d2-e67d-f6c3930c159e"
      },
      "outputs": [
        {
          "name": "stdout",
          "output_type": "stream",
          "text": [
            "<class 'pandas.core.frame.DataFrame'>\n",
            "Index: 10 entries, row1 to row10\n",
            "Data columns (total 5 columns):\n",
            " #   Column  Non-Null Count  Dtype  \n",
            "---  ------  --------------  -----  \n",
            " 0   col1    10 non-null     float64\n",
            " 1   col2    10 non-null     float64\n",
            " 2   col3    10 non-null     float64\n",
            " 3   col4    10 non-null     float64\n",
            " 4   col5    10 non-null     float64\n",
            "dtypes: float64(5)\n",
            "memory usage: 480.0+ bytes\n"
          ]
        }
      ],
      "source": [
        "# info()\n",
        "df.info()"
      ]
    },
    {
      "cell_type": "code",
      "execution_count": null,
      "id": "89ef37cf",
      "metadata": {
        "id": "89ef37cf",
        "outputId": "25bc3c5b-e875-47b7-bff7-223051a1217b"
      },
      "outputs": [
        {
          "data": {
            "text/html": [
              "<div>\n",
              "<style scoped>\n",
              "    .dataframe tbody tr th:only-of-type {\n",
              "        vertical-align: middle;\n",
              "    }\n",
              "\n",
              "    .dataframe tbody tr th {\n",
              "        vertical-align: top;\n",
              "    }\n",
              "\n",
              "    .dataframe thead th {\n",
              "        text-align: right;\n",
              "    }\n",
              "</style>\n",
              "<table border=\"1\" class=\"dataframe\">\n",
              "  <thead>\n",
              "    <tr style=\"text-align: right;\">\n",
              "      <th></th>\n",
              "      <th>col1</th>\n",
              "      <th>col2</th>\n",
              "      <th>col3</th>\n",
              "      <th>col4</th>\n",
              "      <th>col5</th>\n",
              "    </tr>\n",
              "  </thead>\n",
              "  <tbody>\n",
              "    <tr>\n",
              "      <th>count</th>\n",
              "      <td>10.000000</td>\n",
              "      <td>10.000000</td>\n",
              "      <td>10.000000</td>\n",
              "      <td>10.000000</td>\n",
              "      <td>10.000000</td>\n",
              "    </tr>\n",
              "    <tr>\n",
              "      <th>mean</th>\n",
              "      <td>0.626692</td>\n",
              "      <td>0.426000</td>\n",
              "      <td>0.620366</td>\n",
              "      <td>0.621456</td>\n",
              "      <td>0.439775</td>\n",
              "    </tr>\n",
              "    <tr>\n",
              "      <th>std</th>\n",
              "      <td>0.188974</td>\n",
              "      <td>0.301418</td>\n",
              "      <td>0.268228</td>\n",
              "      <td>0.288050</td>\n",
              "      <td>0.356750</td>\n",
              "    </tr>\n",
              "    <tr>\n",
              "      <th>min</th>\n",
              "      <td>0.317213</td>\n",
              "      <td>0.102897</td>\n",
              "      <td>0.137811</td>\n",
              "      <td>0.114905</td>\n",
              "      <td>0.009754</td>\n",
              "    </tr>\n",
              "    <tr>\n",
              "      <th>25%</th>\n",
              "      <td>0.567670</td>\n",
              "      <td>0.164997</td>\n",
              "      <td>0.437456</td>\n",
              "      <td>0.430033</td>\n",
              "      <td>0.114648</td>\n",
              "    </tr>\n",
              "    <tr>\n",
              "      <th>50%</th>\n",
              "      <td>0.596357</td>\n",
              "      <td>0.321838</td>\n",
              "      <td>0.687442</td>\n",
              "      <td>0.698333</td>\n",
              "      <td>0.503451</td>\n",
              "    </tr>\n",
              "    <tr>\n",
              "      <th>75%</th>\n",
              "      <td>0.705213</td>\n",
              "      <td>0.752068</td>\n",
              "      <td>0.833089</td>\n",
              "      <td>0.870362</td>\n",
              "      <td>0.683233</td>\n",
              "    </tr>\n",
              "    <tr>\n",
              "      <th>max</th>\n",
              "      <td>0.957848</td>\n",
              "      <td>0.809422</td>\n",
              "      <td>0.974376</td>\n",
              "      <td>0.956268</td>\n",
              "      <td>0.990638</td>\n",
              "    </tr>\n",
              "  </tbody>\n",
              "</table>\n",
              "</div>"
            ],
            "text/plain": [
              "            col1       col2       col3       col4       col5\n",
              "count  10.000000  10.000000  10.000000  10.000000  10.000000\n",
              "mean    0.626692   0.426000   0.620366   0.621456   0.439775\n",
              "std     0.188974   0.301418   0.268228   0.288050   0.356750\n",
              "min     0.317213   0.102897   0.137811   0.114905   0.009754\n",
              "25%     0.567670   0.164997   0.437456   0.430033   0.114648\n",
              "50%     0.596357   0.321838   0.687442   0.698333   0.503451\n",
              "75%     0.705213   0.752068   0.833089   0.870362   0.683233\n",
              "max     0.957848   0.809422   0.974376   0.956268   0.990638"
            ]
          },
          "execution_count": 74,
          "metadata": {},
          "output_type": "execute_result"
        }
      ],
      "source": [
        "df.describe()"
      ]
    },
    {
      "cell_type": "code",
      "execution_count": null,
      "id": "e8edb5b9",
      "metadata": {
        "id": "e8edb5b9",
        "outputId": "31ce9f0e-d6e5-4899-ec13-956e8c048139"
      },
      "outputs": [
        {
          "data": {
            "text/plain": [
              "col1    0.317213\n",
              "col2    0.102897\n",
              "col3    0.137811\n",
              "col4    0.114905\n",
              "col5    0.009754\n",
              "dtype: float64"
            ]
          },
          "execution_count": 75,
          "metadata": {},
          "output_type": "execute_result"
        }
      ],
      "source": [
        "df.min()"
      ]
    },
    {
      "cell_type": "code",
      "execution_count": null,
      "id": "a95118f1",
      "metadata": {
        "id": "a95118f1",
        "outputId": "ed307d10-a197-4081-c241-524e18f24949"
      },
      "outputs": [
        {
          "data": {
            "text/plain": [
              "col1    0.957848\n",
              "col2    0.809422\n",
              "col3    0.974376\n",
              "col4    0.956268\n",
              "col5    0.990638\n",
              "dtype: float64"
            ]
          },
          "execution_count": 76,
          "metadata": {},
          "output_type": "execute_result"
        }
      ],
      "source": [
        "df.max()"
      ]
    },
    {
      "cell_type": "code",
      "execution_count": null,
      "id": "af0b8001",
      "metadata": {
        "id": "af0b8001"
      },
      "outputs": [],
      "source": []
    },
    {
      "cell_type": "markdown",
      "id": "a9ede494",
      "metadata": {
        "id": "a9ede494"
      },
      "source": [
        "###### Read csv using read_csv()"
      ]
    },
    {
      "cell_type": "code",
      "execution_count": null,
      "id": "56cb63b1",
      "metadata": {
        "id": "56cb63b1"
      },
      "outputs": [],
      "source": [
        "df = pd.read_csv('aug_train.csv')"
      ]
    },
    {
      "cell_type": "code",
      "execution_count": null,
      "id": "4068be84",
      "metadata": {
        "id": "4068be84",
        "outputId": "216b03a8-daec-44d6-db22-fa2c2805a143"
      },
      "outputs": [
        {
          "data": {
            "text/html": [
              "<div>\n",
              "<style scoped>\n",
              "    .dataframe tbody tr th:only-of-type {\n",
              "        vertical-align: middle;\n",
              "    }\n",
              "\n",
              "    .dataframe tbody tr th {\n",
              "        vertical-align: top;\n",
              "    }\n",
              "\n",
              "    .dataframe thead th {\n",
              "        text-align: right;\n",
              "    }\n",
              "</style>\n",
              "<table border=\"1\" class=\"dataframe\">\n",
              "  <thead>\n",
              "    <tr style=\"text-align: right;\">\n",
              "      <th></th>\n",
              "      <th>enrollee_id</th>\n",
              "      <th>city</th>\n",
              "      <th>city_development_index</th>\n",
              "      <th>gender</th>\n",
              "      <th>relevent_experience</th>\n",
              "      <th>enrolled_university</th>\n",
              "      <th>education_level</th>\n",
              "      <th>major_discipline</th>\n",
              "      <th>experience</th>\n",
              "      <th>company_size</th>\n",
              "      <th>company_type</th>\n",
              "      <th>last_new_job</th>\n",
              "      <th>training_hours</th>\n",
              "      <th>target</th>\n",
              "    </tr>\n",
              "  </thead>\n",
              "  <tbody>\n",
              "    <tr>\n",
              "      <th>0</th>\n",
              "      <td>8949</td>\n",
              "      <td>city_103</td>\n",
              "      <td>0.920</td>\n",
              "      <td>Male</td>\n",
              "      <td>Has relevent experience</td>\n",
              "      <td>no_enrollment</td>\n",
              "      <td>Graduate</td>\n",
              "      <td>STEM</td>\n",
              "      <td>&gt;20</td>\n",
              "      <td>NaN</td>\n",
              "      <td>NaN</td>\n",
              "      <td>1</td>\n",
              "      <td>36</td>\n",
              "      <td>1.0</td>\n",
              "    </tr>\n",
              "    <tr>\n",
              "      <th>1</th>\n",
              "      <td>29725</td>\n",
              "      <td>city_40</td>\n",
              "      <td>0.776</td>\n",
              "      <td>Male</td>\n",
              "      <td>No relevent experience</td>\n",
              "      <td>no_enrollment</td>\n",
              "      <td>Graduate</td>\n",
              "      <td>STEM</td>\n",
              "      <td>15</td>\n",
              "      <td>50-99</td>\n",
              "      <td>Pvt Ltd</td>\n",
              "      <td>&gt;4</td>\n",
              "      <td>47</td>\n",
              "      <td>0.0</td>\n",
              "    </tr>\n",
              "    <tr>\n",
              "      <th>2</th>\n",
              "      <td>11561</td>\n",
              "      <td>city_21</td>\n",
              "      <td>0.624</td>\n",
              "      <td>NaN</td>\n",
              "      <td>No relevent experience</td>\n",
              "      <td>Full time course</td>\n",
              "      <td>Graduate</td>\n",
              "      <td>STEM</td>\n",
              "      <td>5</td>\n",
              "      <td>NaN</td>\n",
              "      <td>NaN</td>\n",
              "      <td>never</td>\n",
              "      <td>83</td>\n",
              "      <td>0.0</td>\n",
              "    </tr>\n",
              "    <tr>\n",
              "      <th>3</th>\n",
              "      <td>33241</td>\n",
              "      <td>city_115</td>\n",
              "      <td>0.789</td>\n",
              "      <td>NaN</td>\n",
              "      <td>No relevent experience</td>\n",
              "      <td>NaN</td>\n",
              "      <td>Graduate</td>\n",
              "      <td>Business Degree</td>\n",
              "      <td>&lt;1</td>\n",
              "      <td>NaN</td>\n",
              "      <td>Pvt Ltd</td>\n",
              "      <td>never</td>\n",
              "      <td>52</td>\n",
              "      <td>1.0</td>\n",
              "    </tr>\n",
              "    <tr>\n",
              "      <th>4</th>\n",
              "      <td>666</td>\n",
              "      <td>city_162</td>\n",
              "      <td>0.767</td>\n",
              "      <td>Male</td>\n",
              "      <td>Has relevent experience</td>\n",
              "      <td>no_enrollment</td>\n",
              "      <td>Masters</td>\n",
              "      <td>STEM</td>\n",
              "      <td>&gt;20</td>\n",
              "      <td>50-99</td>\n",
              "      <td>Funded Startup</td>\n",
              "      <td>4</td>\n",
              "      <td>8</td>\n",
              "      <td>0.0</td>\n",
              "    </tr>\n",
              "    <tr>\n",
              "      <th>...</th>\n",
              "      <td>...</td>\n",
              "      <td>...</td>\n",
              "      <td>...</td>\n",
              "      <td>...</td>\n",
              "      <td>...</td>\n",
              "      <td>...</td>\n",
              "      <td>...</td>\n",
              "      <td>...</td>\n",
              "      <td>...</td>\n",
              "      <td>...</td>\n",
              "      <td>...</td>\n",
              "      <td>...</td>\n",
              "      <td>...</td>\n",
              "      <td>...</td>\n",
              "    </tr>\n",
              "    <tr>\n",
              "      <th>19153</th>\n",
              "      <td>7386</td>\n",
              "      <td>city_173</td>\n",
              "      <td>0.878</td>\n",
              "      <td>Male</td>\n",
              "      <td>No relevent experience</td>\n",
              "      <td>no_enrollment</td>\n",
              "      <td>Graduate</td>\n",
              "      <td>Humanities</td>\n",
              "      <td>14</td>\n",
              "      <td>NaN</td>\n",
              "      <td>NaN</td>\n",
              "      <td>1</td>\n",
              "      <td>42</td>\n",
              "      <td>1.0</td>\n",
              "    </tr>\n",
              "    <tr>\n",
              "      <th>19154</th>\n",
              "      <td>31398</td>\n",
              "      <td>city_103</td>\n",
              "      <td>0.920</td>\n",
              "      <td>Male</td>\n",
              "      <td>Has relevent experience</td>\n",
              "      <td>no_enrollment</td>\n",
              "      <td>Graduate</td>\n",
              "      <td>STEM</td>\n",
              "      <td>14</td>\n",
              "      <td>NaN</td>\n",
              "      <td>NaN</td>\n",
              "      <td>4</td>\n",
              "      <td>52</td>\n",
              "      <td>1.0</td>\n",
              "    </tr>\n",
              "    <tr>\n",
              "      <th>19155</th>\n",
              "      <td>24576</td>\n",
              "      <td>city_103</td>\n",
              "      <td>0.920</td>\n",
              "      <td>Male</td>\n",
              "      <td>Has relevent experience</td>\n",
              "      <td>no_enrollment</td>\n",
              "      <td>Graduate</td>\n",
              "      <td>STEM</td>\n",
              "      <td>&gt;20</td>\n",
              "      <td>50-99</td>\n",
              "      <td>Pvt Ltd</td>\n",
              "      <td>4</td>\n",
              "      <td>44</td>\n",
              "      <td>0.0</td>\n",
              "    </tr>\n",
              "    <tr>\n",
              "      <th>19156</th>\n",
              "      <td>5756</td>\n",
              "      <td>city_65</td>\n",
              "      <td>0.802</td>\n",
              "      <td>Male</td>\n",
              "      <td>Has relevent experience</td>\n",
              "      <td>no_enrollment</td>\n",
              "      <td>High School</td>\n",
              "      <td>NaN</td>\n",
              "      <td>&lt;1</td>\n",
              "      <td>500-999</td>\n",
              "      <td>Pvt Ltd</td>\n",
              "      <td>2</td>\n",
              "      <td>97</td>\n",
              "      <td>0.0</td>\n",
              "    </tr>\n",
              "    <tr>\n",
              "      <th>19157</th>\n",
              "      <td>23834</td>\n",
              "      <td>city_67</td>\n",
              "      <td>0.855</td>\n",
              "      <td>NaN</td>\n",
              "      <td>No relevent experience</td>\n",
              "      <td>no_enrollment</td>\n",
              "      <td>Primary School</td>\n",
              "      <td>NaN</td>\n",
              "      <td>2</td>\n",
              "      <td>NaN</td>\n",
              "      <td>NaN</td>\n",
              "      <td>1</td>\n",
              "      <td>127</td>\n",
              "      <td>0.0</td>\n",
              "    </tr>\n",
              "  </tbody>\n",
              "</table>\n",
              "<p>19158 rows × 14 columns</p>\n",
              "</div>"
            ],
            "text/plain": [
              "       enrollee_id      city  city_development_index gender  \\\n",
              "0             8949  city_103                   0.920   Male   \n",
              "1            29725   city_40                   0.776   Male   \n",
              "2            11561   city_21                   0.624    NaN   \n",
              "3            33241  city_115                   0.789    NaN   \n",
              "4              666  city_162                   0.767   Male   \n",
              "...            ...       ...                     ...    ...   \n",
              "19153         7386  city_173                   0.878   Male   \n",
              "19154        31398  city_103                   0.920   Male   \n",
              "19155        24576  city_103                   0.920   Male   \n",
              "19156         5756   city_65                   0.802   Male   \n",
              "19157        23834   city_67                   0.855    NaN   \n",
              "\n",
              "           relevent_experience enrolled_university education_level  \\\n",
              "0      Has relevent experience       no_enrollment        Graduate   \n",
              "1       No relevent experience       no_enrollment        Graduate   \n",
              "2       No relevent experience    Full time course        Graduate   \n",
              "3       No relevent experience                 NaN        Graduate   \n",
              "4      Has relevent experience       no_enrollment         Masters   \n",
              "...                        ...                 ...             ...   \n",
              "19153   No relevent experience       no_enrollment        Graduate   \n",
              "19154  Has relevent experience       no_enrollment        Graduate   \n",
              "19155  Has relevent experience       no_enrollment        Graduate   \n",
              "19156  Has relevent experience       no_enrollment     High School   \n",
              "19157   No relevent experience       no_enrollment  Primary School   \n",
              "\n",
              "      major_discipline experience company_size    company_type last_new_job  \\\n",
              "0                 STEM        >20          NaN             NaN            1   \n",
              "1                 STEM         15        50-99         Pvt Ltd           >4   \n",
              "2                 STEM          5          NaN             NaN        never   \n",
              "3      Business Degree         <1          NaN         Pvt Ltd        never   \n",
              "4                 STEM        >20        50-99  Funded Startup            4   \n",
              "...                ...        ...          ...             ...          ...   \n",
              "19153       Humanities         14          NaN             NaN            1   \n",
              "19154             STEM         14          NaN             NaN            4   \n",
              "19155             STEM        >20        50-99         Pvt Ltd            4   \n",
              "19156              NaN         <1      500-999         Pvt Ltd            2   \n",
              "19157              NaN          2          NaN             NaN            1   \n",
              "\n",
              "       training_hours  target  \n",
              "0                  36     1.0  \n",
              "1                  47     0.0  \n",
              "2                  83     0.0  \n",
              "3                  52     1.0  \n",
              "4                   8     0.0  \n",
              "...               ...     ...  \n",
              "19153              42     1.0  \n",
              "19154              52     1.0  \n",
              "19155              44     0.0  \n",
              "19156              97     0.0  \n",
              "19157             127     0.0  \n",
              "\n",
              "[19158 rows x 14 columns]"
            ]
          },
          "execution_count": 78,
          "metadata": {},
          "output_type": "execute_result"
        }
      ],
      "source": [
        "df"
      ]
    },
    {
      "cell_type": "code",
      "execution_count": null,
      "id": "edfe4ad4",
      "metadata": {
        "id": "edfe4ad4",
        "outputId": "a5cd6e0c-2389-4e12-8f5c-1b7277539629"
      },
      "outputs": [
        {
          "name": "stdout",
          "output_type": "stream",
          "text": [
            "<class 'pandas.core.frame.DataFrame'>\n",
            "RangeIndex: 19158 entries, 0 to 19157\n",
            "Data columns (total 14 columns):\n",
            " #   Column                  Non-Null Count  Dtype  \n",
            "---  ------                  --------------  -----  \n",
            " 0   enrollee_id             19158 non-null  int64  \n",
            " 1   city                    19158 non-null  object \n",
            " 2   city_development_index  19158 non-null  float64\n",
            " 3   gender                  14650 non-null  object \n",
            " 4   relevent_experience     19158 non-null  object \n",
            " 5   enrolled_university     18772 non-null  object \n",
            " 6   education_level         18698 non-null  object \n",
            " 7   major_discipline        16345 non-null  object \n",
            " 8   experience              19093 non-null  object \n",
            " 9   company_size            13220 non-null  object \n",
            " 10  company_type            13018 non-null  object \n",
            " 11  last_new_job            18735 non-null  object \n",
            " 12  training_hours          19158 non-null  int64  \n",
            " 13  target                  19158 non-null  float64\n",
            "dtypes: float64(2), int64(2), object(10)\n",
            "memory usage: 2.0+ MB\n"
          ]
        }
      ],
      "source": [
        "df.info()"
      ]
    },
    {
      "cell_type": "code",
      "execution_count": null,
      "id": "b456fc46",
      "metadata": {
        "id": "b456fc46",
        "outputId": "585a7673-a384-437d-9bf4-6ca520fd3b04"
      },
      "outputs": [
        {
          "data": {
            "text/plain": [
              "enrollee_id                  0\n",
              "city                         0\n",
              "city_development_index       0\n",
              "gender                    4508\n",
              "relevent_experience          0\n",
              "enrolled_university        386\n",
              "education_level            460\n",
              "major_discipline          2813\n",
              "experience                  65\n",
              "company_size              5938\n",
              "company_type              6140\n",
              "last_new_job               423\n",
              "training_hours               0\n",
              "target                       0\n",
              "dtype: int64"
            ]
          },
          "execution_count": 80,
          "metadata": {},
          "output_type": "execute_result"
        }
      ],
      "source": [
        "df.isnull().sum()"
      ]
    },
    {
      "cell_type": "markdown",
      "id": "9a54379d",
      "metadata": {
        "id": "9a54379d"
      },
      "source": [
        "### Sep Parameter"
      ]
    },
    {
      "cell_type": "code",
      "execution_count": null,
      "id": "7669e9a6",
      "metadata": {
        "id": "7669e9a6"
      },
      "outputs": [],
      "source": []
    },
    {
      "cell_type": "code",
      "execution_count": null,
      "id": "03b5f136",
      "metadata": {
        "id": "03b5f136"
      },
      "outputs": [],
      "source": []
    },
    {
      "cell_type": "markdown",
      "id": "2131a881",
      "metadata": {
        "id": "2131a881"
      },
      "source": [
        "### Index_col parameter"
      ]
    },
    {
      "cell_type": "code",
      "execution_count": null,
      "id": "1b412b9a",
      "metadata": {
        "id": "1b412b9a"
      },
      "outputs": [],
      "source": []
    },
    {
      "cell_type": "markdown",
      "id": "f6813e20",
      "metadata": {
        "id": "f6813e20"
      },
      "source": [
        "### Header Parameter"
      ]
    },
    {
      "cell_type": "code",
      "execution_count": null,
      "id": "1cf948a2",
      "metadata": {
        "id": "1cf948a2"
      },
      "outputs": [],
      "source": []
    },
    {
      "cell_type": "markdown",
      "id": "ecc36409",
      "metadata": {
        "id": "ecc36409"
      },
      "source": [
        "### use_cols parameter"
      ]
    },
    {
      "cell_type": "code",
      "execution_count": null,
      "id": "6fbf3600",
      "metadata": {
        "id": "6fbf3600"
      },
      "outputs": [],
      "source": []
    },
    {
      "cell_type": "markdown",
      "id": "e61692f1",
      "metadata": {
        "id": "e61692f1"
      },
      "source": [
        "# Skiprows/ nrows"
      ]
    },
    {
      "cell_type": "code",
      "execution_count": null,
      "id": "75465c43",
      "metadata": {
        "id": "75465c43"
      },
      "outputs": [],
      "source": []
    },
    {
      "cell_type": "code",
      "execution_count": null,
      "id": "abd88973",
      "metadata": {
        "id": "abd88973"
      },
      "outputs": [],
      "source": []
    },
    {
      "cell_type": "code",
      "execution_count": null,
      "id": "82bb02f1",
      "metadata": {
        "id": "82bb02f1"
      },
      "outputs": [],
      "source": []
    },
    {
      "cell_type": "markdown",
      "id": "a2b2c90e",
      "metadata": {
        "id": "a2b2c90e"
      },
      "source": [
        "### dtypes parameters"
      ]
    },
    {
      "cell_type": "code",
      "execution_count": null,
      "id": "f9065d5c",
      "metadata": {
        "id": "f9065d5c"
      },
      "outputs": [],
      "source": []
    },
    {
      "cell_type": "code",
      "execution_count": null,
      "id": "3a02889e",
      "metadata": {
        "scrolled": true,
        "id": "3a02889e"
      },
      "outputs": [],
      "source": []
    },
    {
      "cell_type": "markdown",
      "id": "3b500faa",
      "metadata": {
        "id": "3b500faa"
      },
      "source": [
        "# Skip bad lines"
      ]
    },
    {
      "cell_type": "code",
      "execution_count": null,
      "id": "3f0b7fbd",
      "metadata": {
        "scrolled": true,
        "id": "3f0b7fbd"
      },
      "outputs": [],
      "source": []
    },
    {
      "cell_type": "code",
      "execution_count": null,
      "id": "21f4bc5c",
      "metadata": {
        "id": "21f4bc5c"
      },
      "outputs": [],
      "source": []
    },
    {
      "cell_type": "code",
      "execution_count": null,
      "id": "32567a41",
      "metadata": {
        "id": "32567a41"
      },
      "outputs": [],
      "source": []
    },
    {
      "cell_type": "code",
      "execution_count": null,
      "id": "c28974d2",
      "metadata": {
        "id": "c28974d2"
      },
      "outputs": [],
      "source": []
    },
    {
      "cell_type": "code",
      "execution_count": null,
      "id": "bff426d8",
      "metadata": {
        "id": "bff426d8"
      },
      "outputs": [],
      "source": []
    },
    {
      "cell_type": "code",
      "execution_count": null,
      "id": "69604447",
      "metadata": {
        "id": "69604447"
      },
      "outputs": [],
      "source": []
    },
    {
      "cell_type": "markdown",
      "id": "f0c5f16e",
      "metadata": {
        "id": "f0c5f16e"
      },
      "source": [
        "# Read Json Dataset"
      ]
    },
    {
      "cell_type": "code",
      "execution_count": null,
      "id": "c8fe097b",
      "metadata": {
        "id": "c8fe097b"
      },
      "outputs": [],
      "source": []
    },
    {
      "cell_type": "code",
      "execution_count": null,
      "id": "77b9e134",
      "metadata": {
        "id": "77b9e134"
      },
      "outputs": [],
      "source": []
    },
    {
      "cell_type": "markdown",
      "id": "5609638d",
      "metadata": {
        "id": "5609638d"
      },
      "source": [
        "#### DataFrame to convert into csv file using to_csv()"
      ]
    },
    {
      "cell_type": "code",
      "execution_count": null,
      "id": "340e37b7",
      "metadata": {
        "id": "340e37b7"
      },
      "outputs": [],
      "source": []
    },
    {
      "cell_type": "code",
      "execution_count": null,
      "id": "b3713fd7",
      "metadata": {
        "id": "b3713fd7"
      },
      "outputs": [],
      "source": []
    },
    {
      "cell_type": "code",
      "execution_count": null,
      "id": "704f7cb8",
      "metadata": {
        "id": "704f7cb8"
      },
      "outputs": [],
      "source": []
    },
    {
      "cell_type": "code",
      "execution_count": null,
      "id": "85eeef70",
      "metadata": {
        "id": "85eeef70"
      },
      "outputs": [],
      "source": []
    },
    {
      "cell_type": "code",
      "execution_count": null,
      "id": "e609e791",
      "metadata": {
        "id": "e609e791"
      },
      "outputs": [],
      "source": [
        "import numpy as np\n",
        "import pandas as pd"
      ]
    },
    {
      "cell_type": "code",
      "execution_count": null,
      "id": "005bc772",
      "metadata": {
        "id": "005bc772"
      },
      "outputs": [],
      "source": [
        "# Read CSV File\n",
        "titanic_df = pd.read_csv('train.csv')"
      ]
    },
    {
      "cell_type": "code",
      "execution_count": null,
      "id": "f3e76268",
      "metadata": {
        "id": "f3e76268",
        "outputId": "f802041c-4a70-48d7-a642-40da04a5055f"
      },
      "outputs": [
        {
          "data": {
            "text/html": [
              "<div>\n",
              "<style scoped>\n",
              "    .dataframe tbody tr th:only-of-type {\n",
              "        vertical-align: middle;\n",
              "    }\n",
              "\n",
              "    .dataframe tbody tr th {\n",
              "        vertical-align: top;\n",
              "    }\n",
              "\n",
              "    .dataframe thead th {\n",
              "        text-align: right;\n",
              "    }\n",
              "</style>\n",
              "<table border=\"1\" class=\"dataframe\">\n",
              "  <thead>\n",
              "    <tr style=\"text-align: right;\">\n",
              "      <th></th>\n",
              "      <th>PassengerId</th>\n",
              "      <th>Survived</th>\n",
              "      <th>Pclass</th>\n",
              "      <th>Name</th>\n",
              "      <th>Sex</th>\n",
              "      <th>Age</th>\n",
              "      <th>SibSp</th>\n",
              "      <th>Parch</th>\n",
              "      <th>Ticket</th>\n",
              "      <th>Fare</th>\n",
              "      <th>Cabin</th>\n",
              "      <th>Embarked</th>\n",
              "    </tr>\n",
              "  </thead>\n",
              "  <tbody>\n",
              "    <tr>\n",
              "      <th>0</th>\n",
              "      <td>1</td>\n",
              "      <td>0</td>\n",
              "      <td>3</td>\n",
              "      <td>Braund, Mr. Owen Harris</td>\n",
              "      <td>male</td>\n",
              "      <td>22.0</td>\n",
              "      <td>1</td>\n",
              "      <td>0</td>\n",
              "      <td>A/5 21171</td>\n",
              "      <td>7.2500</td>\n",
              "      <td>NaN</td>\n",
              "      <td>S</td>\n",
              "    </tr>\n",
              "    <tr>\n",
              "      <th>1</th>\n",
              "      <td>2</td>\n",
              "      <td>1</td>\n",
              "      <td>1</td>\n",
              "      <td>Cumings, Mrs. John Bradley (Florence Briggs Th...</td>\n",
              "      <td>female</td>\n",
              "      <td>38.0</td>\n",
              "      <td>1</td>\n",
              "      <td>0</td>\n",
              "      <td>PC 17599</td>\n",
              "      <td>71.2833</td>\n",
              "      <td>C85</td>\n",
              "      <td>C</td>\n",
              "    </tr>\n",
              "    <tr>\n",
              "      <th>2</th>\n",
              "      <td>3</td>\n",
              "      <td>1</td>\n",
              "      <td>3</td>\n",
              "      <td>Heikkinen, Miss. Laina</td>\n",
              "      <td>female</td>\n",
              "      <td>26.0</td>\n",
              "      <td>0</td>\n",
              "      <td>0</td>\n",
              "      <td>STON/O2. 3101282</td>\n",
              "      <td>7.9250</td>\n",
              "      <td>NaN</td>\n",
              "      <td>S</td>\n",
              "    </tr>\n",
              "    <tr>\n",
              "      <th>3</th>\n",
              "      <td>4</td>\n",
              "      <td>1</td>\n",
              "      <td>1</td>\n",
              "      <td>Futrelle, Mrs. Jacques Heath (Lily May Peel)</td>\n",
              "      <td>female</td>\n",
              "      <td>35.0</td>\n",
              "      <td>1</td>\n",
              "      <td>0</td>\n",
              "      <td>113803</td>\n",
              "      <td>53.1000</td>\n",
              "      <td>C123</td>\n",
              "      <td>S</td>\n",
              "    </tr>\n",
              "    <tr>\n",
              "      <th>4</th>\n",
              "      <td>5</td>\n",
              "      <td>0</td>\n",
              "      <td>3</td>\n",
              "      <td>Allen, Mr. William Henry</td>\n",
              "      <td>male</td>\n",
              "      <td>35.0</td>\n",
              "      <td>0</td>\n",
              "      <td>0</td>\n",
              "      <td>373450</td>\n",
              "      <td>8.0500</td>\n",
              "      <td>NaN</td>\n",
              "      <td>S</td>\n",
              "    </tr>\n",
              "    <tr>\n",
              "      <th>...</th>\n",
              "      <td>...</td>\n",
              "      <td>...</td>\n",
              "      <td>...</td>\n",
              "      <td>...</td>\n",
              "      <td>...</td>\n",
              "      <td>...</td>\n",
              "      <td>...</td>\n",
              "      <td>...</td>\n",
              "      <td>...</td>\n",
              "      <td>...</td>\n",
              "      <td>...</td>\n",
              "      <td>...</td>\n",
              "    </tr>\n",
              "    <tr>\n",
              "      <th>886</th>\n",
              "      <td>887</td>\n",
              "      <td>0</td>\n",
              "      <td>2</td>\n",
              "      <td>Montvila, Rev. Juozas</td>\n",
              "      <td>male</td>\n",
              "      <td>27.0</td>\n",
              "      <td>0</td>\n",
              "      <td>0</td>\n",
              "      <td>211536</td>\n",
              "      <td>13.0000</td>\n",
              "      <td>NaN</td>\n",
              "      <td>S</td>\n",
              "    </tr>\n",
              "    <tr>\n",
              "      <th>887</th>\n",
              "      <td>888</td>\n",
              "      <td>1</td>\n",
              "      <td>1</td>\n",
              "      <td>Graham, Miss. Margaret Edith</td>\n",
              "      <td>female</td>\n",
              "      <td>19.0</td>\n",
              "      <td>0</td>\n",
              "      <td>0</td>\n",
              "      <td>112053</td>\n",
              "      <td>30.0000</td>\n",
              "      <td>B42</td>\n",
              "      <td>S</td>\n",
              "    </tr>\n",
              "    <tr>\n",
              "      <th>888</th>\n",
              "      <td>889</td>\n",
              "      <td>0</td>\n",
              "      <td>3</td>\n",
              "      <td>Johnston, Miss. Catherine Helen \"Carrie\"</td>\n",
              "      <td>female</td>\n",
              "      <td>NaN</td>\n",
              "      <td>1</td>\n",
              "      <td>2</td>\n",
              "      <td>W./C. 6607</td>\n",
              "      <td>23.4500</td>\n",
              "      <td>NaN</td>\n",
              "      <td>S</td>\n",
              "    </tr>\n",
              "    <tr>\n",
              "      <th>889</th>\n",
              "      <td>890</td>\n",
              "      <td>1</td>\n",
              "      <td>1</td>\n",
              "      <td>Behr, Mr. Karl Howell</td>\n",
              "      <td>male</td>\n",
              "      <td>26.0</td>\n",
              "      <td>0</td>\n",
              "      <td>0</td>\n",
              "      <td>111369</td>\n",
              "      <td>30.0000</td>\n",
              "      <td>C148</td>\n",
              "      <td>C</td>\n",
              "    </tr>\n",
              "    <tr>\n",
              "      <th>890</th>\n",
              "      <td>891</td>\n",
              "      <td>0</td>\n",
              "      <td>3</td>\n",
              "      <td>Dooley, Mr. Patrick</td>\n",
              "      <td>male</td>\n",
              "      <td>32.0</td>\n",
              "      <td>0</td>\n",
              "      <td>0</td>\n",
              "      <td>370376</td>\n",
              "      <td>7.7500</td>\n",
              "      <td>NaN</td>\n",
              "      <td>Q</td>\n",
              "    </tr>\n",
              "  </tbody>\n",
              "</table>\n",
              "<p>891 rows × 12 columns</p>\n",
              "</div>"
            ],
            "text/plain": [
              "     PassengerId  Survived  Pclass  \\\n",
              "0              1         0       3   \n",
              "1              2         1       1   \n",
              "2              3         1       3   \n",
              "3              4         1       1   \n",
              "4              5         0       3   \n",
              "..           ...       ...     ...   \n",
              "886          887         0       2   \n",
              "887          888         1       1   \n",
              "888          889         0       3   \n",
              "889          890         1       1   \n",
              "890          891         0       3   \n",
              "\n",
              "                                                  Name     Sex   Age  SibSp  \\\n",
              "0                              Braund, Mr. Owen Harris    male  22.0      1   \n",
              "1    Cumings, Mrs. John Bradley (Florence Briggs Th...  female  38.0      1   \n",
              "2                               Heikkinen, Miss. Laina  female  26.0      0   \n",
              "3         Futrelle, Mrs. Jacques Heath (Lily May Peel)  female  35.0      1   \n",
              "4                             Allen, Mr. William Henry    male  35.0      0   \n",
              "..                                                 ...     ...   ...    ...   \n",
              "886                              Montvila, Rev. Juozas    male  27.0      0   \n",
              "887                       Graham, Miss. Margaret Edith  female  19.0      0   \n",
              "888           Johnston, Miss. Catherine Helen \"Carrie\"  female   NaN      1   \n",
              "889                              Behr, Mr. Karl Howell    male  26.0      0   \n",
              "890                                Dooley, Mr. Patrick    male  32.0      0   \n",
              "\n",
              "     Parch            Ticket     Fare Cabin Embarked  \n",
              "0        0         A/5 21171   7.2500   NaN        S  \n",
              "1        0          PC 17599  71.2833   C85        C  \n",
              "2        0  STON/O2. 3101282   7.9250   NaN        S  \n",
              "3        0            113803  53.1000  C123        S  \n",
              "4        0            373450   8.0500   NaN        S  \n",
              "..     ...               ...      ...   ...      ...  \n",
              "886      0            211536  13.0000   NaN        S  \n",
              "887      0            112053  30.0000   B42        S  \n",
              "888      2        W./C. 6607  23.4500   NaN        S  \n",
              "889      0            111369  30.0000  C148        C  \n",
              "890      0            370376   7.7500   NaN        Q  \n",
              "\n",
              "[891 rows x 12 columns]"
            ]
          },
          "execution_count": 13,
          "metadata": {},
          "output_type": "execute_result"
        }
      ],
      "source": [
        "titanic_df"
      ]
    },
    {
      "cell_type": "markdown",
      "id": "70583b9b",
      "metadata": {
        "scrolled": true,
        "id": "70583b9b"
      },
      "source": [
        "### Shape of data?"
      ]
    },
    {
      "cell_type": "code",
      "execution_count": null,
      "id": "acaaadaa",
      "metadata": {
        "id": "acaaadaa",
        "outputId": "586c035d-77c8-4247-e91d-9f32cc00c6f9"
      },
      "outputs": [
        {
          "data": {
            "text/plain": [
              "(891, 12)"
            ]
          },
          "execution_count": 14,
          "metadata": {},
          "output_type": "execute_result"
        }
      ],
      "source": [
        "titanic_df.shape"
      ]
    },
    {
      "cell_type": "markdown",
      "id": "dec04b7f",
      "metadata": {
        "id": "dec04b7f"
      },
      "source": [
        "### How does the data look like?"
      ]
    },
    {
      "cell_type": "code",
      "execution_count": null,
      "id": "c091b727",
      "metadata": {
        "id": "c091b727",
        "outputId": "9393296a-addc-4784-acad-2ce883a1ed41"
      },
      "outputs": [
        {
          "data": {
            "text/html": [
              "<div>\n",
              "<style scoped>\n",
              "    .dataframe tbody tr th:only-of-type {\n",
              "        vertical-align: middle;\n",
              "    }\n",
              "\n",
              "    .dataframe tbody tr th {\n",
              "        vertical-align: top;\n",
              "    }\n",
              "\n",
              "    .dataframe thead th {\n",
              "        text-align: right;\n",
              "    }\n",
              "</style>\n",
              "<table border=\"1\" class=\"dataframe\">\n",
              "  <thead>\n",
              "    <tr style=\"text-align: right;\">\n",
              "      <th></th>\n",
              "      <th>PassengerId</th>\n",
              "      <th>Survived</th>\n",
              "      <th>Pclass</th>\n",
              "      <th>Name</th>\n",
              "      <th>Sex</th>\n",
              "      <th>Age</th>\n",
              "      <th>SibSp</th>\n",
              "      <th>Parch</th>\n",
              "      <th>Ticket</th>\n",
              "      <th>Fare</th>\n",
              "      <th>Cabin</th>\n",
              "      <th>Embarked</th>\n",
              "    </tr>\n",
              "  </thead>\n",
              "  <tbody>\n",
              "    <tr>\n",
              "      <th>711</th>\n",
              "      <td>712</td>\n",
              "      <td>0</td>\n",
              "      <td>1</td>\n",
              "      <td>Klaber, Mr. Herman</td>\n",
              "      <td>male</td>\n",
              "      <td>NaN</td>\n",
              "      <td>0</td>\n",
              "      <td>0</td>\n",
              "      <td>113028</td>\n",
              "      <td>26.5500</td>\n",
              "      <td>C124</td>\n",
              "      <td>S</td>\n",
              "    </tr>\n",
              "    <tr>\n",
              "      <th>880</th>\n",
              "      <td>881</td>\n",
              "      <td>1</td>\n",
              "      <td>2</td>\n",
              "      <td>Shelley, Mrs. William (Imanita Parrish Hall)</td>\n",
              "      <td>female</td>\n",
              "      <td>25.0</td>\n",
              "      <td>0</td>\n",
              "      <td>1</td>\n",
              "      <td>230433</td>\n",
              "      <td>26.0000</td>\n",
              "      <td>NaN</td>\n",
              "      <td>S</td>\n",
              "    </tr>\n",
              "    <tr>\n",
              "      <th>812</th>\n",
              "      <td>813</td>\n",
              "      <td>0</td>\n",
              "      <td>2</td>\n",
              "      <td>Slemen, Mr. Richard James</td>\n",
              "      <td>male</td>\n",
              "      <td>35.0</td>\n",
              "      <td>0</td>\n",
              "      <td>0</td>\n",
              "      <td>28206</td>\n",
              "      <td>10.5000</td>\n",
              "      <td>NaN</td>\n",
              "      <td>S</td>\n",
              "    </tr>\n",
              "    <tr>\n",
              "      <th>32</th>\n",
              "      <td>33</td>\n",
              "      <td>1</td>\n",
              "      <td>3</td>\n",
              "      <td>Glynn, Miss. Mary Agatha</td>\n",
              "      <td>female</td>\n",
              "      <td>NaN</td>\n",
              "      <td>0</td>\n",
              "      <td>0</td>\n",
              "      <td>335677</td>\n",
              "      <td>7.7500</td>\n",
              "      <td>NaN</td>\n",
              "      <td>Q</td>\n",
              "    </tr>\n",
              "    <tr>\n",
              "      <th>643</th>\n",
              "      <td>644</td>\n",
              "      <td>1</td>\n",
              "      <td>3</td>\n",
              "      <td>Foo, Mr. Choong</td>\n",
              "      <td>male</td>\n",
              "      <td>NaN</td>\n",
              "      <td>0</td>\n",
              "      <td>0</td>\n",
              "      <td>1601</td>\n",
              "      <td>56.4958</td>\n",
              "      <td>NaN</td>\n",
              "      <td>S</td>\n",
              "    </tr>\n",
              "    <tr>\n",
              "      <th>848</th>\n",
              "      <td>849</td>\n",
              "      <td>0</td>\n",
              "      <td>2</td>\n",
              "      <td>Harper, Rev. John</td>\n",
              "      <td>male</td>\n",
              "      <td>28.0</td>\n",
              "      <td>0</td>\n",
              "      <td>1</td>\n",
              "      <td>248727</td>\n",
              "      <td>33.0000</td>\n",
              "      <td>NaN</td>\n",
              "      <td>S</td>\n",
              "    </tr>\n",
              "    <tr>\n",
              "      <th>230</th>\n",
              "      <td>231</td>\n",
              "      <td>1</td>\n",
              "      <td>1</td>\n",
              "      <td>Harris, Mrs. Henry Birkhardt (Irene Wallach)</td>\n",
              "      <td>female</td>\n",
              "      <td>35.0</td>\n",
              "      <td>1</td>\n",
              "      <td>0</td>\n",
              "      <td>36973</td>\n",
              "      <td>83.4750</td>\n",
              "      <td>C83</td>\n",
              "      <td>S</td>\n",
              "    </tr>\n",
              "    <tr>\n",
              "      <th>673</th>\n",
              "      <td>674</td>\n",
              "      <td>1</td>\n",
              "      <td>2</td>\n",
              "      <td>Wilhelms, Mr. Charles</td>\n",
              "      <td>male</td>\n",
              "      <td>31.0</td>\n",
              "      <td>0</td>\n",
              "      <td>0</td>\n",
              "      <td>244270</td>\n",
              "      <td>13.0000</td>\n",
              "      <td>NaN</td>\n",
              "      <td>S</td>\n",
              "    </tr>\n",
              "    <tr>\n",
              "      <th>399</th>\n",
              "      <td>400</td>\n",
              "      <td>1</td>\n",
              "      <td>2</td>\n",
              "      <td>Trout, Mrs. William H (Jessie L)</td>\n",
              "      <td>female</td>\n",
              "      <td>28.0</td>\n",
              "      <td>0</td>\n",
              "      <td>0</td>\n",
              "      <td>240929</td>\n",
              "      <td>12.6500</td>\n",
              "      <td>NaN</td>\n",
              "      <td>S</td>\n",
              "    </tr>\n",
              "    <tr>\n",
              "      <th>246</th>\n",
              "      <td>247</td>\n",
              "      <td>0</td>\n",
              "      <td>3</td>\n",
              "      <td>Lindahl, Miss. Agda Thorilda Viktoria</td>\n",
              "      <td>female</td>\n",
              "      <td>25.0</td>\n",
              "      <td>0</td>\n",
              "      <td>0</td>\n",
              "      <td>347071</td>\n",
              "      <td>7.7750</td>\n",
              "      <td>NaN</td>\n",
              "      <td>S</td>\n",
              "    </tr>\n",
              "  </tbody>\n",
              "</table>\n",
              "</div>"
            ],
            "text/plain": [
              "     PassengerId  Survived  Pclass  \\\n",
              "711          712         0       1   \n",
              "880          881         1       2   \n",
              "812          813         0       2   \n",
              "32            33         1       3   \n",
              "643          644         1       3   \n",
              "848          849         0       2   \n",
              "230          231         1       1   \n",
              "673          674         1       2   \n",
              "399          400         1       2   \n",
              "246          247         0       3   \n",
              "\n",
              "                                             Name     Sex   Age  SibSp  Parch  \\\n",
              "711                            Klaber, Mr. Herman    male   NaN      0      0   \n",
              "880  Shelley, Mrs. William (Imanita Parrish Hall)  female  25.0      0      1   \n",
              "812                     Slemen, Mr. Richard James    male  35.0      0      0   \n",
              "32                       Glynn, Miss. Mary Agatha  female   NaN      0      0   \n",
              "643                               Foo, Mr. Choong    male   NaN      0      0   \n",
              "848                             Harper, Rev. John    male  28.0      0      1   \n",
              "230  Harris, Mrs. Henry Birkhardt (Irene Wallach)  female  35.0      1      0   \n",
              "673                         Wilhelms, Mr. Charles    male  31.0      0      0   \n",
              "399              Trout, Mrs. William H (Jessie L)  female  28.0      0      0   \n",
              "246         Lindahl, Miss. Agda Thorilda Viktoria  female  25.0      0      0   \n",
              "\n",
              "     Ticket     Fare Cabin Embarked  \n",
              "711  113028  26.5500  C124        S  \n",
              "880  230433  26.0000   NaN        S  \n",
              "812   28206  10.5000   NaN        S  \n",
              "32   335677   7.7500   NaN        Q  \n",
              "643    1601  56.4958   NaN        S  \n",
              "848  248727  33.0000   NaN        S  \n",
              "230   36973  83.4750   C83        S  \n",
              "673  244270  13.0000   NaN        S  \n",
              "399  240929  12.6500   NaN        S  \n",
              "246  347071   7.7750   NaN        S  "
            ]
          },
          "execution_count": 15,
          "metadata": {},
          "output_type": "execute_result"
        }
      ],
      "source": [
        "titanic_df.sample(10)"
      ]
    },
    {
      "cell_type": "markdown",
      "id": "62e7cdee",
      "metadata": {
        "id": "62e7cdee"
      },
      "source": [
        "### What is the data type of cols?"
      ]
    },
    {
      "cell_type": "code",
      "execution_count": null,
      "id": "b1a590de",
      "metadata": {
        "id": "b1a590de",
        "outputId": "168b20bf-cbdf-4031-9f55-9312f6dfc093"
      },
      "outputs": [
        {
          "name": "stdout",
          "output_type": "stream",
          "text": [
            "<class 'pandas.core.frame.DataFrame'>\n",
            "RangeIndex: 891 entries, 0 to 890\n",
            "Data columns (total 12 columns):\n",
            " #   Column       Non-Null Count  Dtype  \n",
            "---  ------       --------------  -----  \n",
            " 0   PassengerId  891 non-null    int64  \n",
            " 1   Survived     891 non-null    int64  \n",
            " 2   Pclass       891 non-null    int64  \n",
            " 3   Name         891 non-null    object \n",
            " 4   Sex          891 non-null    object \n",
            " 5   Age          714 non-null    float64\n",
            " 6   SibSp        891 non-null    int64  \n",
            " 7   Parch        891 non-null    int64  \n",
            " 8   Ticket       891 non-null    object \n",
            " 9   Fare         891 non-null    float64\n",
            " 10  Cabin        204 non-null    object \n",
            " 11  Embarked     889 non-null    object \n",
            "dtypes: float64(2), int64(5), object(5)\n",
            "memory usage: 83.7+ KB\n"
          ]
        }
      ],
      "source": [
        "titanic_df.info()"
      ]
    },
    {
      "cell_type": "markdown",
      "id": "aaa4bbb4",
      "metadata": {
        "id": "aaa4bbb4"
      },
      "source": [
        "#### check null values"
      ]
    },
    {
      "cell_type": "code",
      "execution_count": null,
      "id": "a71fccb1",
      "metadata": {
        "id": "a71fccb1",
        "outputId": "6c4b16c4-89ea-4813-ada7-7ecf20375f79"
      },
      "outputs": [
        {
          "data": {
            "text/plain": [
              "PassengerId      0\n",
              "Survived         0\n",
              "Pclass           0\n",
              "Name             0\n",
              "Sex              0\n",
              "Age            177\n",
              "SibSp            0\n",
              "Parch            0\n",
              "Ticket           0\n",
              "Fare             0\n",
              "Cabin          687\n",
              "Embarked         2\n",
              "dtype: int64"
            ]
          },
          "execution_count": 18,
          "metadata": {},
          "output_type": "execute_result"
        }
      ],
      "source": [
        "titanic_df.isnull().sum()"
      ]
    },
    {
      "cell_type": "markdown",
      "id": "ae6012ca",
      "metadata": {
        "id": "ae6012ca"
      },
      "source": [
        "### Describe the data"
      ]
    },
    {
      "cell_type": "code",
      "execution_count": null,
      "id": "ac2e2e85",
      "metadata": {
        "id": "ac2e2e85",
        "outputId": "b73dd0d3-ba4c-44c8-ad9c-a884e84df871"
      },
      "outputs": [
        {
          "data": {
            "text/html": [
              "<div>\n",
              "<style scoped>\n",
              "    .dataframe tbody tr th:only-of-type {\n",
              "        vertical-align: middle;\n",
              "    }\n",
              "\n",
              "    .dataframe tbody tr th {\n",
              "        vertical-align: top;\n",
              "    }\n",
              "\n",
              "    .dataframe thead th {\n",
              "        text-align: right;\n",
              "    }\n",
              "</style>\n",
              "<table border=\"1\" class=\"dataframe\">\n",
              "  <thead>\n",
              "    <tr style=\"text-align: right;\">\n",
              "      <th></th>\n",
              "      <th>PassengerId</th>\n",
              "      <th>Survived</th>\n",
              "      <th>Pclass</th>\n",
              "      <th>Age</th>\n",
              "      <th>SibSp</th>\n",
              "      <th>Parch</th>\n",
              "      <th>Fare</th>\n",
              "    </tr>\n",
              "  </thead>\n",
              "  <tbody>\n",
              "    <tr>\n",
              "      <th>count</th>\n",
              "      <td>891.000000</td>\n",
              "      <td>891.000000</td>\n",
              "      <td>891.000000</td>\n",
              "      <td>714.000000</td>\n",
              "      <td>891.000000</td>\n",
              "      <td>891.000000</td>\n",
              "      <td>891.000000</td>\n",
              "    </tr>\n",
              "    <tr>\n",
              "      <th>mean</th>\n",
              "      <td>446.000000</td>\n",
              "      <td>0.383838</td>\n",
              "      <td>2.308642</td>\n",
              "      <td>29.699118</td>\n",
              "      <td>0.523008</td>\n",
              "      <td>0.381594</td>\n",
              "      <td>32.204208</td>\n",
              "    </tr>\n",
              "    <tr>\n",
              "      <th>std</th>\n",
              "      <td>257.353842</td>\n",
              "      <td>0.486592</td>\n",
              "      <td>0.836071</td>\n",
              "      <td>14.526497</td>\n",
              "      <td>1.102743</td>\n",
              "      <td>0.806057</td>\n",
              "      <td>49.693429</td>\n",
              "    </tr>\n",
              "    <tr>\n",
              "      <th>min</th>\n",
              "      <td>1.000000</td>\n",
              "      <td>0.000000</td>\n",
              "      <td>1.000000</td>\n",
              "      <td>0.420000</td>\n",
              "      <td>0.000000</td>\n",
              "      <td>0.000000</td>\n",
              "      <td>0.000000</td>\n",
              "    </tr>\n",
              "    <tr>\n",
              "      <th>25%</th>\n",
              "      <td>223.500000</td>\n",
              "      <td>0.000000</td>\n",
              "      <td>2.000000</td>\n",
              "      <td>20.125000</td>\n",
              "      <td>0.000000</td>\n",
              "      <td>0.000000</td>\n",
              "      <td>7.910400</td>\n",
              "    </tr>\n",
              "    <tr>\n",
              "      <th>50%</th>\n",
              "      <td>446.000000</td>\n",
              "      <td>0.000000</td>\n",
              "      <td>3.000000</td>\n",
              "      <td>28.000000</td>\n",
              "      <td>0.000000</td>\n",
              "      <td>0.000000</td>\n",
              "      <td>14.454200</td>\n",
              "    </tr>\n",
              "    <tr>\n",
              "      <th>75%</th>\n",
              "      <td>668.500000</td>\n",
              "      <td>1.000000</td>\n",
              "      <td>3.000000</td>\n",
              "      <td>38.000000</td>\n",
              "      <td>1.000000</td>\n",
              "      <td>0.000000</td>\n",
              "      <td>31.000000</td>\n",
              "    </tr>\n",
              "    <tr>\n",
              "      <th>max</th>\n",
              "      <td>891.000000</td>\n",
              "      <td>1.000000</td>\n",
              "      <td>3.000000</td>\n",
              "      <td>80.000000</td>\n",
              "      <td>8.000000</td>\n",
              "      <td>6.000000</td>\n",
              "      <td>512.329200</td>\n",
              "    </tr>\n",
              "  </tbody>\n",
              "</table>\n",
              "</div>"
            ],
            "text/plain": [
              "       PassengerId    Survived      Pclass         Age       SibSp  \\\n",
              "count   891.000000  891.000000  891.000000  714.000000  891.000000   \n",
              "mean    446.000000    0.383838    2.308642   29.699118    0.523008   \n",
              "std     257.353842    0.486592    0.836071   14.526497    1.102743   \n",
              "min       1.000000    0.000000    1.000000    0.420000    0.000000   \n",
              "25%     223.500000    0.000000    2.000000   20.125000    0.000000   \n",
              "50%     446.000000    0.000000    3.000000   28.000000    0.000000   \n",
              "75%     668.500000    1.000000    3.000000   38.000000    1.000000   \n",
              "max     891.000000    1.000000    3.000000   80.000000    8.000000   \n",
              "\n",
              "            Parch        Fare  \n",
              "count  891.000000  891.000000  \n",
              "mean     0.381594   32.204208  \n",
              "std      0.806057   49.693429  \n",
              "min      0.000000    0.000000  \n",
              "25%      0.000000    7.910400  \n",
              "50%      0.000000   14.454200  \n",
              "75%      0.000000   31.000000  \n",
              "max      6.000000  512.329200  "
            ]
          },
          "execution_count": 19,
          "metadata": {},
          "output_type": "execute_result"
        }
      ],
      "source": [
        "titanic_df.describe()"
      ]
    },
    {
      "cell_type": "markdown",
      "id": "67a0e7d9",
      "metadata": {
        "id": "67a0e7d9"
      },
      "source": [
        "### Check duplicated values"
      ]
    },
    {
      "cell_type": "code",
      "execution_count": null,
      "id": "79c79de8",
      "metadata": {
        "id": "79c79de8",
        "outputId": "ff78c94c-7d6c-473f-db1d-90f74e880080"
      },
      "outputs": [
        {
          "data": {
            "text/plain": [
              "0"
            ]
          },
          "execution_count": 21,
          "metadata": {},
          "output_type": "execute_result"
        }
      ],
      "source": [
        "titanic_df.duplicated().sum()"
      ]
    },
    {
      "cell_type": "markdown",
      "id": "5afbd0fd",
      "metadata": {
        "id": "5afbd0fd"
      },
      "source": [
        "### Correlation between columns"
      ]
    },
    {
      "cell_type": "code",
      "execution_count": null,
      "id": "a5a87098",
      "metadata": {
        "id": "a5a87098",
        "outputId": "51927a38-7d05-48dd-aafb-c1eb18b2bdae"
      },
      "outputs": [
        {
          "data": {
            "text/plain": [
              "PassengerId   -0.005007\n",
              "Survived       1.000000\n",
              "Pclass        -0.338481\n",
              "Age           -0.077221\n",
              "SibSp         -0.035322\n",
              "Parch          0.081629\n",
              "Fare           0.257307\n",
              "Name: Survived, dtype: float64"
            ]
          },
          "execution_count": 23,
          "metadata": {},
          "output_type": "execute_result"
        }
      ],
      "source": [
        "titanic_df.corr()['Survived']"
      ]
    },
    {
      "cell_type": "code",
      "execution_count": null,
      "id": "d73695c3",
      "metadata": {
        "id": "d73695c3"
      },
      "outputs": [],
      "source": []
    }
  ],
  "metadata": {
    "kernelspec": {
      "display_name": "Python 3",
      "language": "python",
      "name": "python3"
    },
    "language_info": {
      "codemirror_mode": {
        "name": "ipython",
        "version": 3
      },
      "file_extension": ".py",
      "mimetype": "text/x-python",
      "name": "python",
      "nbconvert_exporter": "python",
      "pygments_lexer": "ipython3",
      "version": "3.8.8"
    },
    "colab": {
      "provenance": [],
      "include_colab_link": true
    }
  },
  "nbformat": 4,
  "nbformat_minor": 5
}