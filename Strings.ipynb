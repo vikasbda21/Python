{
 "cells": [
  {
   "cell_type": "markdown",
   "id": "98aa9f31",
   "metadata": {},
   "source": [
    "### Strings\n",
    "Strings are sequence of characters.\n",
    "\n",
    "In Python specifically, Strings are sequence of Unicode Characters\n",
    "- Creating String\n",
    "- Accessing String\n",
    "- Adding Chars to String\n",
    "- Edditing String\n",
    "- Deleting String\n",
    "- Operation on String\n",
    "- String Functions"
   ]
  },
  {
   "cell_type": "code",
   "execution_count": 10,
   "id": "8087093f",
   "metadata": {},
   "outputs": [
    {
     "name": "stdout",
     "output_type": "stream",
     "text": [
      "Hello\n"
     ]
    }
   ],
   "source": [
    "# Create String \n",
    "s = 'Hello'\n",
    "print(s)"
   ]
  },
  {
   "cell_type": "code",
   "execution_count": 11,
   "id": "a799833d",
   "metadata": {},
   "outputs": [
    {
     "name": "stdout",
     "output_type": "stream",
     "text": [
      "Hello\n"
     ]
    }
   ],
   "source": [
    "s1 = \"Hello\"\n",
    "print(s1)"
   ]
  },
  {
   "cell_type": "code",
   "execution_count": 13,
   "id": "27a365f7",
   "metadata": {},
   "outputs": [
    {
     "name": "stdout",
     "output_type": "stream",
     "text": [
      "Hello\n",
      "Hello\n"
     ]
    }
   ],
   "source": [
    "s3 = \"\"\"Hello\"\"\"\n",
    "print(s3)\n",
    "s4 = '''Hello'''\n",
    "print(s4)"
   ]
  },
  {
   "cell_type": "code",
   "execution_count": 18,
   "id": "39af9d4c",
   "metadata": {},
   "outputs": [
    {
     "name": "stdout",
     "output_type": "stream",
     "text": [
      "it's a nice car\n"
     ]
    }
   ],
   "source": [
    "s5 = \"it's a nice car\" \n",
    "print(s5)"
   ]
  },
  {
   "cell_type": "markdown",
   "id": "983153b7",
   "metadata": {},
   "source": [
    "## Accessing Substrings from Strings"
   ]
  },
  {
   "cell_type": "code",
   "execution_count": null,
   "id": "3bf2b024",
   "metadata": {},
   "outputs": [],
   "source": [
    "# Concept of Indexing"
   ]
  },
  {
   "cell_type": "code",
   "execution_count": 130,
   "id": "a76a9e41",
   "metadata": {},
   "outputs": [
    {
     "name": "stdout",
     "output_type": "stream",
     "text": [
      "Hello World\n"
     ]
    }
   ],
   "source": [
    "s = \"Hello World\"\n",
    "print(s)"
   ]
  },
  {
   "cell_type": "code",
   "execution_count": 30,
   "id": "cbc81804",
   "metadata": {},
   "outputs": [
    {
     "data": {
      "text/plain": [
       "'d'"
      ]
     },
     "execution_count": 30,
     "metadata": {},
     "output_type": "execute_result"
    }
   ],
   "source": [
    "s[10]"
   ]
  },
  {
   "cell_type": "code",
   "execution_count": 128,
   "id": "ece1f592",
   "metadata": {},
   "outputs": [
    {
     "name": "stdout",
     "output_type": "stream",
     "text": [
      "it is raining\n"
     ]
    }
   ],
   "source": [
    "# Slicing\n",
    "print(s)"
   ]
  },
  {
   "cell_type": "code",
   "execution_count": 132,
   "id": "a61ee139",
   "metadata": {},
   "outputs": [
    {
     "data": {
      "text/plain": [
       "'HloWrd'"
      ]
     },
     "execution_count": 132,
     "metadata": {},
     "output_type": "execute_result"
    }
   ],
   "source": [
    "s[::-1]"
   ]
  },
  {
   "cell_type": "code",
   "execution_count": null,
   "id": "7aeea0e0",
   "metadata": {},
   "outputs": [],
   "source": [
    "s[start:stop]"
   ]
  },
  {
   "cell_type": "code",
   "execution_count": 43,
   "id": "9cad5838",
   "metadata": {},
   "outputs": [
    {
     "data": {
      "text/plain": [
       "'l '"
      ]
     },
     "execution_count": 43,
     "metadata": {},
     "output_type": "execute_result"
    }
   ],
   "source": [
    "#\"Held\"\n",
    "# 012345678910 \n",
    "#llo Wor\n",
    "#2 4 6\n",
    "s[2:8:3]"
   ]
  },
  {
   "cell_type": "code",
   "execution_count": 41,
   "id": "4d909ba1",
   "metadata": {},
   "outputs": [
    {
     "data": {
      "text/plain": [
       "'dlro'"
      ]
     },
     "execution_count": 41,
     "metadata": {},
     "output_type": "execute_result"
    }
   ],
   "source": [
    "s[-1:-5:-1]"
   ]
  },
  {
   "cell_type": "code",
   "execution_count": 44,
   "id": "3b4eb561",
   "metadata": {},
   "outputs": [
    {
     "data": {
      "text/plain": [
       "'olleH'"
      ]
     },
     "execution_count": 44,
     "metadata": {},
     "output_type": "execute_result"
    }
   ],
   "source": [
    "st1 = \"Hello\"\n",
    "st1[::-1]"
   ]
  },
  {
   "cell_type": "markdown",
   "id": "f70635bf",
   "metadata": {},
   "source": [
    "## Editing & Deleting in Strings"
   ]
  },
  {
   "cell_type": "code",
   "execution_count": 33,
   "id": "bc3235c0",
   "metadata": {},
   "outputs": [
    {
     "name": "stdout",
     "output_type": "stream",
     "text": [
      "Hello\n"
     ]
    }
   ],
   "source": [
    "c = \"Hello\"\n",
    "print(c)"
   ]
  },
  {
   "cell_type": "code",
   "execution_count": 34,
   "id": "e7b8f400",
   "metadata": {},
   "outputs": [
    {
     "ename": "TypeError",
     "evalue": "'str' object does not support item assignment",
     "output_type": "error",
     "traceback": [
      "\u001b[1;31m---------------------------------------------------------------------------\u001b[0m",
      "\u001b[1;31mTypeError\u001b[0m                                 Traceback (most recent call last)",
      "\u001b[1;32m<ipython-input-34-d5df4f377f93>\u001b[0m in \u001b[0;36m<module>\u001b[1;34m\u001b[0m\n\u001b[1;32m----> 1\u001b[1;33m \u001b[0mc\u001b[0m\u001b[1;33m[\u001b[0m\u001b[1;36m0\u001b[0m\u001b[1;33m]\u001b[0m \u001b[1;33m=\u001b[0m \u001b[1;34m'h'\u001b[0m\u001b[1;33m\u001b[0m\u001b[1;33m\u001b[0m\u001b[0m\n\u001b[0m",
      "\u001b[1;31mTypeError\u001b[0m: 'str' object does not support item assignment"
     ]
    }
   ],
   "source": [
    "c[0] = 'h'"
   ]
  },
  {
   "cell_type": "code",
   "execution_count": 54,
   "id": "1b6ad733",
   "metadata": {},
   "outputs": [
    {
     "data": {
      "text/plain": [
       "'World'"
      ]
     },
     "execution_count": 54,
     "metadata": {},
     "output_type": "execute_result"
    }
   ],
   "source": [
    "c = \"World\"\n",
    "c"
   ]
  },
  {
   "cell_type": "code",
   "execution_count": 52,
   "id": "ae1c455d",
   "metadata": {},
   "outputs": [],
   "source": [
    "del c"
   ]
  },
  {
   "cell_type": "code",
   "execution_count": 53,
   "id": "aac85e35",
   "metadata": {},
   "outputs": [
    {
     "ename": "NameError",
     "evalue": "name 'c' is not defined",
     "output_type": "error",
     "traceback": [
      "\u001b[1;31m---------------------------------------------------------------------------\u001b[0m",
      "\u001b[1;31mNameError\u001b[0m                                 Traceback (most recent call last)",
      "\u001b[1;32m<ipython-input-53-2b66fd261ee5>\u001b[0m in \u001b[0;36m<module>\u001b[1;34m\u001b[0m\n\u001b[1;32m----> 1\u001b[1;33m \u001b[0mc\u001b[0m\u001b[1;33m\u001b[0m\u001b[1;33m\u001b[0m\u001b[0m\n\u001b[0m",
      "\u001b[1;31mNameError\u001b[0m: name 'c' is not defined"
     ]
    }
   ],
   "source": [
    "c"
   ]
  },
  {
   "cell_type": "code",
   "execution_count": 55,
   "id": "f836ac29",
   "metadata": {},
   "outputs": [
    {
     "ename": "TypeError",
     "evalue": "'str' object doesn't support item deletion",
     "output_type": "error",
     "traceback": [
      "\u001b[1;31m---------------------------------------------------------------------------\u001b[0m",
      "\u001b[1;31mTypeError\u001b[0m                                 Traceback (most recent call last)",
      "\u001b[1;32m<ipython-input-55-b6bb46c364a5>\u001b[0m in \u001b[0;36m<module>\u001b[1;34m\u001b[0m\n\u001b[1;32m----> 1\u001b[1;33m \u001b[1;32mdel\u001b[0m \u001b[0mc\u001b[0m\u001b[1;33m[\u001b[0m\u001b[1;36m0\u001b[0m\u001b[1;33m]\u001b[0m\u001b[1;33m\u001b[0m\u001b[1;33m\u001b[0m\u001b[0m\n\u001b[0m",
      "\u001b[1;31mTypeError\u001b[0m: 'str' object doesn't support item deletion"
     ]
    }
   ],
   "source": [
    "del c[0]"
   ]
  },
  {
   "cell_type": "markdown",
   "id": "fc86609f",
   "metadata": {},
   "source": [
    "### Operation on Strings:\n",
    "- Arithmetic Operations\n",
    "- Relational Operation\n",
    "- Logical Operation\n",
    "- loops on Strings\n"
   ]
  },
  {
   "cell_type": "code",
   "execution_count": null,
   "id": "7915507b",
   "metadata": {},
   "outputs": [],
   "source": [
    "# cancatenation(+) and repeat(*)"
   ]
  },
  {
   "cell_type": "code",
   "execution_count": 58,
   "id": "3548a6f3",
   "metadata": {},
   "outputs": [
    {
     "data": {
      "text/plain": [
       "'Hello  World'"
      ]
     },
     "execution_count": 58,
     "metadata": {},
     "output_type": "execute_result"
    }
   ],
   "source": [
    "\"Hello\" +\" \"+\"World\""
   ]
  },
  {
   "cell_type": "code",
   "execution_count": 61,
   "id": "ba2aa036",
   "metadata": {},
   "outputs": [
    {
     "name": "stdout",
     "output_type": "stream",
     "text": [
      "********************\n"
     ]
    }
   ],
   "source": [
    "print(\"*\"*20)"
   ]
  },
  {
   "cell_type": "code",
   "execution_count": 63,
   "id": "349cc974",
   "metadata": {},
   "outputs": [
    {
     "data": {
      "text/plain": [
       "True"
      ]
     },
     "execution_count": 63,
     "metadata": {},
     "output_type": "execute_result"
    }
   ],
   "source": [
    "\"Hello\" != \"World\""
   ]
  },
  {
   "cell_type": "code",
   "execution_count": 66,
   "id": "c48256aa",
   "metadata": {},
   "outputs": [
    {
     "data": {
      "text/plain": [
       "False"
      ]
     },
     "execution_count": 66,
     "metadata": {},
     "output_type": "execute_result"
    }
   ],
   "source": [
    "# Ascii values\n",
    "\"goa\" < \"Goa\""
   ]
  },
  {
   "cell_type": "code",
   "execution_count": 133,
   "id": "37eaa4c0",
   "metadata": {},
   "outputs": [
    {
     "data": {
      "text/plain": [
       "'Hello'"
      ]
     },
     "execution_count": 133,
     "metadata": {},
     "output_type": "execute_result"
    }
   ],
   "source": [
    "'Hello' or 'World'"
   ]
  },
  {
   "cell_type": "code",
   "execution_count": 69,
   "id": "274aefb3",
   "metadata": {},
   "outputs": [
    {
     "data": {
      "text/plain": [
       "'Hello'"
      ]
     },
     "execution_count": 69,
     "metadata": {},
     "output_type": "execute_result"
    }
   ],
   "source": [
    "'' or 'Hello'"
   ]
  },
  {
   "cell_type": "code",
   "execution_count": 127,
   "id": "aba917bd",
   "metadata": {},
   "outputs": [
    {
     "name": "stdout",
     "output_type": "stream",
     "text": [
      "drWolH"
     ]
    }
   ],
   "source": [
    "# loop\n",
    "c = \"Hello World\"\n",
    "for i in c[::-2]:\n",
    "    print(i, end=\"\")"
   ]
  },
  {
   "cell_type": "code",
   "execution_count": null,
   "id": "9a904d37",
   "metadata": {},
   "outputs": [],
   "source": []
  },
  {
   "cell_type": "code",
   "execution_count": null,
   "id": "2d7d6a95",
   "metadata": {},
   "outputs": [],
   "source": []
  },
  {
   "cell_type": "markdown",
   "id": "1b2bb599",
   "metadata": {},
   "source": [
    "# String Function"
   ]
  },
  {
   "cell_type": "markdown",
   "id": "9dbe8a3d",
   "metadata": {},
   "source": [
    "#### Common Function\n",
    "- len\n",
    "- max\n",
    "- min\n",
    "- sorted"
   ]
  },
  {
   "cell_type": "code",
   "execution_count": 78,
   "id": "987c98c1",
   "metadata": {},
   "outputs": [
    {
     "data": {
      "text/plain": [
       "15"
      ]
     },
     "execution_count": 78,
     "metadata": {},
     "output_type": "execute_result"
    }
   ],
   "source": [
    "s = 'Himynameisvikas'\n",
    "len(s)"
   ]
  },
  {
   "cell_type": "code",
   "execution_count": 76,
   "id": "352fde75",
   "metadata": {},
   "outputs": [
    {
     "data": {
      "text/plain": [
       "'y'"
      ]
     },
     "execution_count": 76,
     "metadata": {},
     "output_type": "execute_result"
    }
   ],
   "source": [
    "max(s)"
   ]
  },
  {
   "cell_type": "code",
   "execution_count": 79,
   "id": "7baf026b",
   "metadata": {},
   "outputs": [
    {
     "data": {
      "text/plain": [
       "'H'"
      ]
     },
     "execution_count": 79,
     "metadata": {},
     "output_type": "execute_result"
    }
   ],
   "source": [
    "min(s)"
   ]
  },
  {
   "cell_type": "code",
   "execution_count": 84,
   "id": "be121e83",
   "metadata": {},
   "outputs": [
    {
     "name": "stdout",
     "output_type": "stream",
     "text": [
      "['y', 'v', 's', 's', 'n', 'm', 'm', 'k', 'i', 'i', 'i', 'e', 'a', 'a', 'H']"
     ]
    }
   ],
   "source": [
    "print(sorted(s, reverse=True),end=\"\")"
   ]
  },
  {
   "cell_type": "markdown",
   "id": "f8c4f0f9",
   "metadata": {},
   "source": [
    "### Capitalize/Title/Upper/Lower/Swapcase"
   ]
  },
  {
   "cell_type": "code",
   "execution_count": 105,
   "id": "2a3e0b34",
   "metadata": {},
   "outputs": [
    {
     "data": {
      "text/plain": [
       "'It is raining'"
      ]
     },
     "execution_count": 105,
     "metadata": {},
     "output_type": "execute_result"
    }
   ],
   "source": [
    "s = 'it is raining'\n",
    "s.capitalize()"
   ]
  },
  {
   "cell_type": "code",
   "execution_count": 91,
   "id": "76ba14bb",
   "metadata": {},
   "outputs": [
    {
     "data": {
      "text/plain": [
       "'It Is Raining'"
      ]
     },
     "execution_count": 91,
     "metadata": {},
     "output_type": "execute_result"
    }
   ],
   "source": [
    "s.title()"
   ]
  },
  {
   "cell_type": "code",
   "execution_count": 96,
   "id": "f35d8e2b",
   "metadata": {},
   "outputs": [
    {
     "data": {
      "text/plain": [
       "'IT IS RAINING'"
      ]
     },
     "execution_count": 96,
     "metadata": {},
     "output_type": "execute_result"
    }
   ],
   "source": [
    "s1 = s.upper()\n",
    "s1"
   ]
  },
  {
   "cell_type": "code",
   "execution_count": 97,
   "id": "58affb45",
   "metadata": {},
   "outputs": [
    {
     "data": {
      "text/plain": [
       "'it is raining'"
      ]
     },
     "execution_count": 97,
     "metadata": {},
     "output_type": "execute_result"
    }
   ],
   "source": [
    "s1.lower()"
   ]
  },
  {
   "cell_type": "code",
   "execution_count": 98,
   "id": "06a9004f",
   "metadata": {},
   "outputs": [
    {
     "data": {
      "text/plain": [
       "'dElHi'"
      ]
     },
     "execution_count": 98,
     "metadata": {},
     "output_type": "execute_result"
    }
   ],
   "source": [
    "s = \"DeLhI\"\n",
    "s.swapcase()"
   ]
  },
  {
   "cell_type": "markdown",
   "id": "e69fecdf",
   "metadata": {},
   "source": [
    "# count()"
   ]
  },
  {
   "cell_type": "code",
   "execution_count": 121,
   "id": "05fc0088",
   "metadata": {},
   "outputs": [
    {
     "data": {
      "text/plain": [
       "1"
      ]
     },
     "execution_count": 121,
     "metadata": {},
     "output_type": "execute_result"
    }
   ],
   "source": [
    "s = 'it is raining'\n",
    "s.count('r')"
   ]
  },
  {
   "cell_type": "markdown",
   "id": "bb1bec98",
   "metadata": {},
   "source": [
    "## Find/index"
   ]
  },
  {
   "cell_type": "code",
   "execution_count": 125,
   "id": "d431cc89",
   "metadata": {},
   "outputs": [
    {
     "data": {
      "text/plain": [
       "-1"
      ]
     },
     "execution_count": 125,
     "metadata": {},
     "output_type": "execute_result"
    }
   ],
   "source": [
    "s.find('f')"
   ]
  },
  {
   "cell_type": "code",
   "execution_count": 120,
   "id": "a097f64d",
   "metadata": {},
   "outputs": [
    {
     "ename": "ValueError",
     "evalue": "substring not found",
     "output_type": "error",
     "traceback": [
      "\u001b[1;31m---------------------------------------------------------------------------\u001b[0m",
      "\u001b[1;31mValueError\u001b[0m                                Traceback (most recent call last)",
      "\u001b[1;32m<ipython-input-120-047632a335cd>\u001b[0m in \u001b[0;36m<module>\u001b[1;34m\u001b[0m\n\u001b[1;32m----> 1\u001b[1;33m \u001b[0ms\u001b[0m\u001b[1;33m.\u001b[0m\u001b[0mindex\u001b[0m\u001b[1;33m(\u001b[0m\u001b[1;34m'x'\u001b[0m\u001b[1;33m)\u001b[0m\u001b[1;33m\u001b[0m\u001b[1;33m\u001b[0m\u001b[0m\n\u001b[0m",
      "\u001b[1;31mValueError\u001b[0m: substring not found"
     ]
    }
   ],
   "source": [
    "s.index('x')"
   ]
  },
  {
   "cell_type": "code",
   "execution_count": null,
   "id": "ae503cb6",
   "metadata": {},
   "outputs": [],
   "source": [
    "s = \"hello world\""
   ]
  },
  {
   "cell_type": "markdown",
   "id": "d71e0dbb",
   "metadata": {},
   "source": [
    "## endswith/startswith"
   ]
  },
  {
   "cell_type": "code",
   "execution_count": 3,
   "id": "c98f6fd2",
   "metadata": {},
   "outputs": [
    {
     "data": {
      "text/plain": [
       "True"
      ]
     },
     "execution_count": 3,
     "metadata": {},
     "output_type": "execute_result"
    }
   ],
   "source": [
    "s = 'it is raining'\n",
    "s.startswith('it')"
   ]
  },
  {
   "cell_type": "code",
   "execution_count": 7,
   "id": "be721f48",
   "metadata": {},
   "outputs": [
    {
     "data": {
      "text/plain": [
       "True"
      ]
     },
     "execution_count": 7,
     "metadata": {},
     "output_type": "execute_result"
    }
   ],
   "source": [
    "s.endswith(\"raining\")"
   ]
  },
  {
   "cell_type": "markdown",
   "id": "197fa041",
   "metadata": {},
   "source": [
    "# format"
   ]
  },
  {
   "cell_type": "code",
   "execution_count": 12,
   "id": "6f829ad3",
   "metadata": {},
   "outputs": [
    {
     "data": {
      "text/plain": [
       "'my f_name is Gupta and l_name vikas'"
      ]
     },
     "execution_count": 12,
     "metadata": {},
     "output_type": "execute_result"
    }
   ],
   "source": [
    "\"my f_name is {l_name} and l_name {f_name}\".format(f_name=\"vikas\",l_name=\"Gupta\")"
   ]
  },
  {
   "cell_type": "code",
   "execution_count": null,
   "id": "ad9ea6b6",
   "metadata": {},
   "outputs": [],
   "source": []
  },
  {
   "cell_type": "code",
   "execution_count": null,
   "id": "65960b34",
   "metadata": {},
   "outputs": [],
   "source": []
  },
  {
   "cell_type": "markdown",
   "id": "bff5029f",
   "metadata": {},
   "source": [
    "### isalnum/isalpha/isdigit"
   ]
  },
  {
   "cell_type": "code",
   "execution_count": 22,
   "id": "778f43ed",
   "metadata": {},
   "outputs": [
    {
     "data": {
      "text/plain": [
       "True"
      ]
     },
     "execution_count": 22,
     "metadata": {},
     "output_type": "execute_result"
    }
   ],
   "source": [
    "\"Flat20\".isalnum()"
   ]
  },
  {
   "cell_type": "code",
   "execution_count": 23,
   "id": "11a40fd5",
   "metadata": {},
   "outputs": [
    {
     "data": {
      "text/plain": [
       "False"
      ]
     },
     "execution_count": 23,
     "metadata": {},
     "output_type": "execute_result"
    }
   ],
   "source": [
    "\"Flat20\".isalpha()"
   ]
  },
  {
   "cell_type": "code",
   "execution_count": 20,
   "id": "745cb742",
   "metadata": {},
   "outputs": [
    {
     "data": {
      "text/plain": [
       "True"
      ]
     },
     "execution_count": 20,
     "metadata": {},
     "output_type": "execute_result"
    }
   ],
   "source": [
    "'20'.isdigit()"
   ]
  },
  {
   "cell_type": "code",
   "execution_count": 25,
   "id": "5316c222",
   "metadata": {},
   "outputs": [
    {
     "data": {
      "text/plain": [
       "False"
      ]
     },
     "execution_count": 25,
     "metadata": {},
     "output_type": "execute_result"
    }
   ],
   "source": [
    "'hello world'.isidentifier()"
   ]
  },
  {
   "cell_type": "markdown",
   "id": "3c3b0b41",
   "metadata": {},
   "source": [
    "## split"
   ]
  },
  {
   "cell_type": "code",
   "execution_count": 29,
   "id": "e2a70585",
   "metadata": {},
   "outputs": [
    {
     "data": {
      "text/plain": [
       "['who ', 's the pm of ', 'nd', 'a']"
      ]
     },
     "execution_count": 29,
     "metadata": {},
     "output_type": "execute_result"
    }
   ],
   "source": [
    "str1 = 'who is the pm of india'\n",
    "str1.split('i')"
   ]
  },
  {
   "cell_type": "code",
   "execution_count": null,
   "id": "28015aac",
   "metadata": {},
   "outputs": [],
   "source": [
    "# Strip()"
   ]
  },
  {
   "cell_type": "code",
   "execution_count": 32,
   "id": "9cfeaab9",
   "metadata": {},
   "outputs": [
    {
     "data": {
      "text/plain": [
       "'hello'"
      ]
     },
     "execution_count": 32,
     "metadata": {},
     "output_type": "execute_result"
    }
   ],
   "source": [
    "\n",
    "s = '           hello           ' # trailing and  leading\n",
    "\n",
    "s.strip()\n"
   ]
  },
  {
   "cell_type": "code",
   "execution_count": 36,
   "id": "b9ec4244",
   "metadata": {},
   "outputs": [
    {
     "data": {
      "text/plain": [
       "'My name is Sujit'"
      ]
     },
     "execution_count": 36,
     "metadata": {},
     "output_type": "execute_result"
    }
   ],
   "source": [
    "'My name is vikas'.replace('vikas','Sujit')"
   ]
  },
  {
   "cell_type": "markdown",
   "id": "dcf4236e",
   "metadata": {},
   "source": [
    "# Assignment\n",
    "- Write a program to print even length words in a string.\n",
    "- Write a program to find the length of the string \"Bhopal is city of lakes\" without using len function."
   ]
  },
  {
   "cell_type": "code",
   "execution_count": null,
   "id": "f4949771",
   "metadata": {},
   "outputs": [],
   "source": [
    "lst = ['Delhi', 'Mumbai', 'Goa']"
   ]
  },
  {
   "cell_type": "code",
   "execution_count": null,
   "id": "8f4b18f9",
   "metadata": {},
   "outputs": [],
   "source": [
    "s."
   ]
  },
  {
   "cell_type": "code",
   "execution_count": null,
   "id": "3d7dfff4",
   "metadata": {},
   "outputs": [],
   "source": []
  }
 ],
 "metadata": {
  "kernelspec": {
   "display_name": "Python 3",
   "language": "python",
   "name": "python3"
  },
  "language_info": {
   "codemirror_mode": {
    "name": "ipython",
    "version": 3
   },
   "file_extension": ".py",
   "mimetype": "text/x-python",
   "name": "python",
   "nbconvert_exporter": "python",
   "pygments_lexer": "ipython3",
   "version": "3.8.8"
  }
 },
 "nbformat": 4,
 "nbformat_minor": 5
}
