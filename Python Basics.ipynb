{
 "cells": [
  {
   "cell_type": "markdown",
   "id": "534669a9",
   "metadata": {},
   "source": [
    "### What is Python used for?\n",
    "\n",
    "Python is commonly used for developing websites and software, task automation, data analysis, and data visualization. Since it’s relatively easy to learn.\n",
    "\n",
    "#### What can you do with python? Some things include:\n",
    "\n",
    "- Data analysis and machine learning\n",
    "\n",
    "- Web development\n",
    "\n",
    "- Automation or scripting\n",
    "\n",
    "- Software testing and prototyping\n",
    "\n",
    "- Everyday tasks\n",
    "\n"
   ]
  },
  {
   "cell_type": "markdown",
   "id": "78210d90",
   "metadata": {},
   "source": [
    "##  Why is Python so popular?\n",
    "\n",
    "Python is popular for a number of reasons.\n",
    "- It has a simple syntax, so it’s easier to read and understand.\n",
    "- It’s beginner friendly.\n",
    "- It’s open source, which means it’s free to use.\n",
    "- Python’s archive of modules and libraries—bundles of code that third-party users have created to expand Python’s capabilitiesis vast and growing."
   ]
  },
  {
   "cell_type": "markdown",
   "id": "492643e9",
   "metadata": {},
   "source": [
    "### Python Arithmetic Operators\n",
    "- (+) Addition\n",
    "- (-) Subtraction\n",
    "- (*) Multiplication\n",
    "- / Division\n",
    "- // Floor Division \n",
    "- % modulus\n",
    "- ** Exponent"
   ]
  },
  {
   "cell_type": "code",
   "execution_count": 6,
   "id": "27afee07",
   "metadata": {},
   "outputs": [
    {
     "data": {
      "text/plain": [
       "78"
      ]
     },
     "execution_count": 6,
     "metadata": {},
     "output_type": "execute_result"
    }
   ],
   "source": [
    "33+45"
   ]
  },
  {
   "cell_type": "code",
   "execution_count": 7,
   "id": "263d9f80",
   "metadata": {},
   "outputs": [
    {
     "data": {
      "text/plain": [
       "12"
      ]
     },
     "execution_count": 7,
     "metadata": {},
     "output_type": "execute_result"
    }
   ],
   "source": [
    "# multiplication\n",
    "3*4"
   ]
  },
  {
   "cell_type": "code",
   "execution_count": 23,
   "id": "52119ad8",
   "metadata": {},
   "outputs": [
    {
     "data": {
      "text/plain": [
       "1"
      ]
     },
     "execution_count": 23,
     "metadata": {},
     "output_type": "execute_result"
    }
   ],
   "source": [
    "# Floor Division\n",
    "5//4"
   ]
  },
  {
   "cell_type": "code",
   "execution_count": 25,
   "id": "2a55acc5",
   "metadata": {},
   "outputs": [
    {
     "data": {
      "text/plain": [
       "1.25"
      ]
     },
     "execution_count": 25,
     "metadata": {},
     "output_type": "execute_result"
    }
   ],
   "source": [
    "# Division\n",
    "5/4"
   ]
  },
  {
   "cell_type": "code",
   "execution_count": 26,
   "id": "c053f9a9",
   "metadata": {},
   "outputs": [
    {
     "data": {
      "text/plain": [
       "3"
      ]
     },
     "execution_count": 26,
     "metadata": {},
     "output_type": "execute_result"
    }
   ],
   "source": [
    "# modulus\n",
    "7%4"
   ]
  },
  {
   "cell_type": "code",
   "execution_count": 27,
   "id": "33d52e63",
   "metadata": {},
   "outputs": [
    {
     "data": {
      "text/plain": [
       "9"
      ]
     },
     "execution_count": 27,
     "metadata": {},
     "output_type": "execute_result"
    }
   ],
   "source": [
    "3**2"
   ]
  },
  {
   "cell_type": "markdown",
   "id": "c8574e9c",
   "metadata": {},
   "source": [
    "### Data types\n",
    "- Basic Types - (integer,float,complex,boolean and string)\n",
    "- Container Types - (List,Tuples, Sets and Dictionary)\n"
   ]
  },
  {
   "cell_type": "markdown",
   "id": "40909447",
   "metadata": {},
   "source": [
    "### Integers\n",
    "\n",
    "Integer literals are created by any number without a decimal or complex component."
   ]
  },
  {
   "cell_type": "code",
   "execution_count": 29,
   "id": "f43777a6",
   "metadata": {},
   "outputs": [
    {
     "name": "stdout",
     "output_type": "stream",
     "text": [
      "5\n"
     ]
    },
    {
     "data": {
      "text/plain": [
       "int"
      ]
     },
     "execution_count": 29,
     "metadata": {},
     "output_type": "execute_result"
    }
   ],
   "source": [
    "print(5)\n",
    "type(5)"
   ]
  },
  {
   "cell_type": "markdown",
   "id": "b95f1aaf",
   "metadata": {},
   "source": [
    "### Floats\n",
    "\n",
    "Float literals can be created by adding a decimal component to a number."
   ]
  },
  {
   "cell_type": "code",
   "execution_count": 11,
   "id": "778f4315",
   "metadata": {},
   "outputs": [
    {
     "data": {
      "text/plain": [
       "int"
      ]
     },
     "execution_count": 11,
     "metadata": {},
     "output_type": "execute_result"
    }
   ],
   "source": [
    "x=5\n",
    "#print(type(x))\n",
    "type(x)"
   ]
  },
  {
   "cell_type": "markdown",
   "id": "cfae17cc",
   "metadata": {},
   "source": [
    "### Boolean\n",
    "\n",
    "Boolean can be defined by typing True/False without quotes"
   ]
  },
  {
   "cell_type": "code",
   "execution_count": 37,
   "id": "c252036c",
   "metadata": {},
   "outputs": [
    {
     "name": "stdout",
     "output_type": "stream",
     "text": [
      "True\n"
     ]
    },
    {
     "data": {
      "text/plain": [
       "bool"
      ]
     },
     "execution_count": 37,
     "metadata": {},
     "output_type": "execute_result"
    }
   ],
   "source": [
    "print(True)\n",
    "type(True)"
   ]
  },
  {
   "cell_type": "markdown",
   "id": "efac632d",
   "metadata": {},
   "source": [
    "### Strings\n",
    "\n",
    "A string is a sequence of characters."
   ]
  },
  {
   "cell_type": "code",
   "execution_count": 62,
   "id": "6ee39d17",
   "metadata": {},
   "outputs": [
    {
     "name": "stdout",
     "output_type": "stream",
     "text": [
      "Python is programming language\n"
     ]
    },
    {
     "data": {
      "text/plain": [
       "str"
      ]
     },
     "execution_count": 62,
     "metadata": {},
     "output_type": "execute_result"
    }
   ],
   "source": [
    "print('Python is programming language')\n",
    "type('Python is programming language')"
   ]
  },
  {
   "cell_type": "code",
   "execution_count": 9,
   "id": "acfb7d78",
   "metadata": {},
   "outputs": [
    {
     "name": "stdout",
     "output_type": "stream",
     "text": [
      "Data Einstein\n",
      "Data einstein\n",
      "Data einstein\n"
     ]
    }
   ],
   "source": [
    "print('Data Einstein')\n",
    "print(\"Data einstein\")\n",
    "print(\"\"\"Data einstein\"\"\")"
   ]
  },
  {
   "cell_type": "markdown",
   "id": "18b8e848",
   "metadata": {},
   "source": [
    "### Complex\n",
    "\n",
    "Complex literals can be created by using the notation x + yj where x is the real component and y is the imaginary component."
   ]
  },
  {
   "cell_type": "code",
   "execution_count": 12,
   "id": "4fc3f8e4",
   "metadata": {},
   "outputs": [
    {
     "data": {
      "text/plain": [
       "complex"
      ]
     },
     "execution_count": 12,
     "metadata": {},
     "output_type": "execute_result"
    }
   ],
   "source": [
    "#complex numbers: note the use of `j` to specify the imaginary part\n",
    "4+4j\n",
    "type(4+4j)"
   ]
  },
  {
   "cell_type": "code",
   "execution_count": 14,
   "id": "9e13de2e",
   "metadata": {},
   "outputs": [
    {
     "name": "stdout",
     "output_type": "stream",
     "text": [
      "<class 'list'>\n",
      "[2, 5, 7, 99, 44, 66]\n",
      "['Data', 'Python', 'Programming']\n",
      "[3, 9, 5, 'Python', True]\n"
     ]
    }
   ],
   "source": [
    "# Container Types\n",
    "# List [] \n",
    "lst = [2,5,7,99,44,66]  \n",
    "print(type(lst))\n",
    "print(lst)\n",
    "lst1 = ['Data','Python','Programming']\n",
    "print(lst1)\n",
    "lst2 = [3,9,5,'Python',True,3.2]\n",
    "print(lst2)\n"
   ]
  },
  {
   "cell_type": "code",
   "execution_count": null,
   "id": "bf882aa7",
   "metadata": {},
   "outputs": [],
   "source": []
  },
  {
   "cell_type": "code",
   "execution_count": 15,
   "id": "44567991",
   "metadata": {},
   "outputs": [
    {
     "name": "stdout",
     "output_type": "stream",
     "text": [
      "<class 'tuple'>\n",
      "(45, 66, 44, 66, 4)\n",
      "('Data', 'Science')\n",
      "(34, 6, 6, 'Data', True)\n",
      "<class 'tuple'>\n"
     ]
    }
   ],
   "source": [
    "# Tuples\n",
    "tup1 = (45,66,44,66,4)\n",
    "print(type(tup1))\n",
    "print(tup1)\n",
    "tup2  = ('Data','Science')\n",
    "print(tup2)\n",
    "tup3 = (34,6,6,'Data',True)\n",
    "print(tup3)\n",
    "print(type(tup3))\n"
   ]
  },
  {
   "cell_type": "code",
   "execution_count": 16,
   "id": "d073d06b",
   "metadata": {},
   "outputs": [
    {
     "name": "stdout",
     "output_type": "stream",
     "text": [
      "<class 'set'>\n",
      "{2, 4, 5, 7, 8, 'Data', -5, -3}\n",
      "{'Data', 'Python'}\n"
     ]
    },
    {
     "data": {
      "text/plain": [
       "set"
      ]
     },
     "execution_count": 16,
     "metadata": {},
     "output_type": "execute_result"
    }
   ],
   "source": [
    "# Create Sets\n",
    "# unordred\n",
    "set1 = {2,5,4,7,4,8,8,-3,-5,'Data'}\n",
    "print(type(set1))\n",
    "print(set1)\n",
    "set2 = {'Python', 'Data'}\n",
    "print(set2)\n",
    "type(set2)"
   ]
  },
  {
   "cell_type": "code",
   "execution_count": 17,
   "id": "ce8fd3f4",
   "metadata": {},
   "outputs": [
    {
     "name": "stdout",
     "output_type": "stream",
     "text": [
      "<class 'dict'>\n",
      "{'Name': 'Ram', 'Age': 25}\n"
     ]
    }
   ],
   "source": [
    "# Dictionary\n",
    "# Syntax dict1 = {key:value}\n",
    "dic1 = {'Name':'Ram','Age':25} \n",
    "print(type(dic1))\n",
    "print(dic1)"
   ]
  },
  {
   "cell_type": "code",
   "execution_count": null,
   "id": "e6d9262a",
   "metadata": {},
   "outputs": [],
   "source": []
  },
  {
   "cell_type": "code",
   "execution_count": null,
   "id": "449931b6",
   "metadata": {},
   "outputs": [],
   "source": []
  },
  {
   "cell_type": "code",
   "execution_count": null,
   "id": "b405581f",
   "metadata": {},
   "outputs": [],
   "source": []
  },
  {
   "cell_type": "markdown",
   "id": "bd6b1913",
   "metadata": {},
   "source": [
    "### print() function"
   ]
  },
  {
   "cell_type": "code",
   "execution_count": 12,
   "id": "7e2e098c",
   "metadata": {},
   "outputs": [
    {
     "name": "stdout",
     "output_type": "stream",
     "text": [
      "Hello World\n"
     ]
    }
   ],
   "source": [
    "print(\"Hello World\")"
   ]
  },
  {
   "cell_type": "code",
   "execution_count": 18,
   "id": "3793a7a9",
   "metadata": {},
   "outputs": [
    {
     "name": "stdout",
     "output_type": "stream",
     "text": [
      "5\n"
     ]
    }
   ],
   "source": [
    "print(5)"
   ]
  },
  {
   "cell_type": "code",
   "execution_count": 13,
   "id": "3059cad5",
   "metadata": {},
   "outputs": [
    {
     "name": "stdout",
     "output_type": "stream",
     "text": [
      "India/Sri-Lanka/Bangladesh\n"
     ]
    }
   ],
   "source": [
    "print(\"India\",\"Sri-Lanka\",'Bangladesh', sep='/')"
   ]
  },
  {
   "cell_type": "code",
   "execution_count": 22,
   "id": "ab7b24dc",
   "metadata": {},
   "outputs": [
    {
     "name": "stdout",
     "output_type": "stream",
     "text": [
      "inf\n"
     ]
    }
   ],
   "source": [
    "print(1e309)"
   ]
  },
  {
   "cell_type": "code",
   "execution_count": 24,
   "id": "7b878dfa",
   "metadata": {},
   "outputs": [
    {
     "name": "stdout",
     "output_type": "stream",
     "text": [
      "India-Sri-Lanka-Banglades-Hello-54\n"
     ]
    }
   ],
   "source": [
    "print(\"India\",\"Sri-Lanka\",'Banglades','Hello',54, sep='-' )\n"
   ]
  },
  {
   "cell_type": "code",
   "execution_count": 16,
   "id": "f67d57be",
   "metadata": {},
   "outputs": [
    {
     "name": "stdout",
     "output_type": "stream",
     "text": [
      "India 45 True\n"
     ]
    }
   ],
   "source": [
    "print(\"India\", 45,True)"
   ]
  },
  {
   "cell_type": "code",
   "execution_count": 26,
   "id": "ee5bc726",
   "metadata": {},
   "outputs": [
    {
     "name": "stdout",
     "output_type": "stream",
     "text": [
      "Hello World\n"
     ]
    }
   ],
   "source": [
    "print(\"Hello\",end=' ')\n",
    "print(\"World\")P"
   ]
  },
  {
   "cell_type": "code",
   "execution_count": 5,
   "id": "f847351f",
   "metadata": {},
   "outputs": [
    {
     "name": "stdout",
     "output_type": "stream",
     "text": [
      "india uttar pradesh ghaziabad\n",
      "sherpur\n"
     ]
    }
   ],
   "source": [
    "print(\"india\",\"uttar pradesh\",\"ghaziabad\", end='\\n')\n",
    "print(\"sherpur\")"
   ]
  },
  {
   "cell_type": "markdown",
   "id": "32d486a7",
   "metadata": {},
   "source": [
    "## What is variables\n"
   ]
  },
  {
   "cell_type": "code",
   "execution_count": 18,
   "id": "7ae3c19d",
   "metadata": {},
   "outputs": [],
   "source": [
    "# in C\n",
    "# int a = 45 # static typing"
   ]
  },
  {
   "cell_type": "code",
   "execution_count": 8,
   "id": "e917ad1f",
   "metadata": {},
   "outputs": [
    {
     "name": "stdout",
     "output_type": "stream",
     "text": [
      "55.0\n"
     ]
    }
   ],
   "source": [
    "# Create variable\n",
    "a = 45 # Dynamic Typing\n",
    "b = 10.0\n",
    "c = a+b\n",
    "print(c)"
   ]
  },
  {
   "cell_type": "code",
   "execution_count": 20,
   "id": "597d3475",
   "metadata": {},
   "outputs": [
    {
     "name": "stdout",
     "output_type": "stream",
     "text": [
      "55.0\n"
     ]
    }
   ],
   "source": [
    "print(c)"
   ]
  },
  {
   "cell_type": "code",
   "execution_count": 9,
   "id": "c01c201b",
   "metadata": {},
   "outputs": [],
   "source": [
    "a=16"
   ]
  },
  {
   "cell_type": "code",
   "execution_count": null,
   "id": "f708ac75",
   "metadata": {},
   "outputs": [],
   "source": []
  },
  {
   "cell_type": "code",
   "execution_count": null,
   "id": "bc979b16",
   "metadata": {},
   "outputs": [],
   "source": []
  },
  {
   "cell_type": "code",
   "execution_count": null,
   "id": "eaac88d7",
   "metadata": {},
   "outputs": [],
   "source": []
  },
  {
   "cell_type": "code",
   "execution_count": 3,
   "id": "150ef614",
   "metadata": {
    "scrolled": true
   },
   "outputs": [
    {
     "data": {
      "text/plain": [
       "int"
      ]
     },
     "execution_count": 3,
     "metadata": {},
     "output_type": "execute_result"
    }
   ],
   "source": [
    "type(a)"
   ]
  },
  {
   "cell_type": "code",
   "execution_count": 4,
   "id": "bbe72231",
   "metadata": {},
   "outputs": [],
   "source": [
    "a=15"
   ]
  },
  {
   "cell_type": "code",
   "execution_count": 10,
   "id": "3c3b463a",
   "metadata": {
    "scrolled": false
   },
   "outputs": [
    {
     "data": {
      "text/plain": [
       "16"
      ]
     },
     "execution_count": 10,
     "metadata": {},
     "output_type": "execute_result"
    }
   ],
   "source": [
    "a"
   ]
  },
  {
   "cell_type": "code",
   "execution_count": null,
   "id": "5fbcbe95",
   "metadata": {},
   "outputs": [],
   "source": []
  },
  {
   "cell_type": "code",
   "execution_count": null,
   "id": "4962d3e1",
   "metadata": {},
   "outputs": [],
   "source": []
  },
  {
   "cell_type": "code",
   "execution_count": null,
   "id": "5fc6fd5c",
   "metadata": {},
   "outputs": [],
   "source": []
  },
  {
   "cell_type": "code",
   "execution_count": null,
   "id": "b6dcccd9",
   "metadata": {},
   "outputs": [],
   "source": []
  },
  {
   "cell_type": "code",
   "execution_count": null,
   "id": "ef724f3f",
   "metadata": {},
   "outputs": [],
   "source": []
  },
  {
   "cell_type": "code",
   "execution_count": null,
   "id": "e285ed63",
   "metadata": {},
   "outputs": [],
   "source": []
  },
  {
   "cell_type": "code",
   "execution_count": null,
   "id": "d63776ae",
   "metadata": {},
   "outputs": [],
   "source": []
  },
  {
   "cell_type": "code",
   "execution_count": null,
   "id": "4bbfc0c7",
   "metadata": {},
   "outputs": [],
   "source": []
  },
  {
   "cell_type": "code",
   "execution_count": null,
   "id": "5ce00509",
   "metadata": {},
   "outputs": [],
   "source": []
  },
  {
   "cell_type": "code",
   "execution_count": null,
   "id": "ce73cc08",
   "metadata": {},
   "outputs": [],
   "source": []
  },
  {
   "cell_type": "code",
   "execution_count": null,
   "id": "d5e1ed4e",
   "metadata": {},
   "outputs": [],
   "source": []
  },
  {
   "cell_type": "code",
   "execution_count": null,
   "id": "774d7551",
   "metadata": {},
   "outputs": [],
   "source": []
  },
  {
   "cell_type": "code",
   "execution_count": null,
   "id": "278801ce",
   "metadata": {},
   "outputs": [],
   "source": []
  },
  {
   "cell_type": "code",
   "execution_count": null,
   "id": "cdfb8572",
   "metadata": {},
   "outputs": [],
   "source": []
  },
  {
   "cell_type": "code",
   "execution_count": null,
   "id": "33688f0e",
   "metadata": {},
   "outputs": [],
   "source": []
  }
 ],
 "metadata": {
  "kernelspec": {
   "display_name": "Python 3",
   "language": "python",
   "name": "python3"
  },
  "language_info": {
   "codemirror_mode": {
    "name": "ipython",
    "version": 3
   },
   "file_extension": ".py",
   "mimetype": "text/x-python",
   "name": "python",
   "nbconvert_exporter": "python",
   "pygments_lexer": "ipython3",
   "version": "3.8.8"
  }
 },
 "nbformat": 4,
 "nbformat_minor": 5
}
