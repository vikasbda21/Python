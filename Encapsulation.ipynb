{
 "cells": [
  {
   "cell_type": "markdown",
   "id": "d9fc9eab",
   "metadata": {},
   "source": [
    "**Encapsulation means hiding internal data and exposing only necessary functionality through public methods.**"
   ]
  },
  {
   "cell_type": "code",
   "execution_count": 33,
   "id": "aafda342",
   "metadata": {},
   "outputs": [],
   "source": [
    "class BankAccount():\n",
    "    def __init__(self, account_holder_name, balance):\n",
    "        self.account_holder_name = account_holder_name\n",
    "        self.__balance = balance\n",
    "        \n",
    "    def get_balance(self):\n",
    "        return f\"Available balance : {self.__balance}\"\n",
    "    \n",
    "    def deposte(self,amount):\n",
    "        if amount > 0:\n",
    "            self.__balance+=amount\n",
    "            return f\"Deposited {amount} current available balance is: {self.__balance}\"\n",
    "        else:\n",
    "            return f\"Deposite amount must be posite\"\n",
    "        \n",
    "    def withdraw(self, amount):\n",
    "        if 0 < amount <= self.__balance:\n",
    "            self.__balance -= amount\n",
    "        \n",
    "            return f\"Withdraw {amount} remaining balance is : {self.__balance}\"\n",
    "        else:\n",
    "            return f\"Insufficient Balance\"\n",
    "            \n",
    "        "
   ]
  },
  {
   "cell_type": "code",
   "execution_count": 34,
   "id": "5a1c9396",
   "metadata": {},
   "outputs": [],
   "source": [
    "# Create BankAccout Object\n",
    "account = BankAccount(\"Ayan\",500)"
   ]
  },
  {
   "cell_type": "code",
   "execution_count": 35,
   "id": "e350460d",
   "metadata": {},
   "outputs": [
    {
     "name": "stdout",
     "output_type": "stream",
     "text": [
      "Available balance : 500\n"
     ]
    }
   ],
   "source": [
    "# Get the balance from bank account\n",
    "print(account.get_balance())"
   ]
  },
  {
   "cell_type": "code",
   "execution_count": 36,
   "id": "e39d0d9a",
   "metadata": {},
   "outputs": [
    {
     "name": "stdout",
     "output_type": "stream",
     "text": [
      "Deposite amount must be posite\n"
     ]
    }
   ],
   "source": [
    "print(account.deposte(-110000))"
   ]
  },
  {
   "cell_type": "code",
   "execution_count": 37,
   "id": "35758c96",
   "metadata": {},
   "outputs": [
    {
     "name": "stdout",
     "output_type": "stream",
     "text": [
      "Withdraw 245 remaining balance is : 255\n"
     ]
    }
   ],
   "source": [
    "print(account.withdraw(245))"
   ]
  },
  {
   "cell_type": "code",
   "execution_count": null,
   "id": "b01a5fd0",
   "metadata": {},
   "outputs": [],
   "source": []
  }
 ],
 "metadata": {
  "kernelspec": {
   "display_name": "Python 3 (ipykernel)",
   "language": "python",
   "name": "python3"
  },
  "language_info": {
   "codemirror_mode": {
    "name": "ipython",
    "version": 3
   },
   "file_extension": ".py",
   "mimetype": "text/x-python",
   "name": "python",
   "nbconvert_exporter": "python",
   "pygments_lexer": "ipython3",
   "version": "3.11.5"
  }
 },
 "nbformat": 4,
 "nbformat_minor": 5
}
