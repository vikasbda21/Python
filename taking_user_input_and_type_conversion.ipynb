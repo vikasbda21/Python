{
  "nbformat": 4,
  "nbformat_minor": 0,
  "metadata": {
    "colab": {
      "provenance": []
    },
    "kernelspec": {
      "name": "python3",
      "display_name": "Python 3"
    },
    "language_info": {
      "name": "python"
    }
  },
  "cells": [
    {
      "cell_type": "markdown",
      "source": [
        "**input ():** This function first takes the input from the user and converts it into a string. The type of the returned object always will be <type ‘str’>."
      ],
      "metadata": {
        "id": "PLL9HvPLdGJz"
      }
    },
    {
      "cell_type": "code",
      "source": [
        "# taking user input\n",
        "first_num = input(\"Enter the first number \")\n",
        "second_num = input(\"Enter the second number \")"
      ],
      "metadata": {
        "colab": {
          "base_uri": "https://localhost:8080/"
        },
        "id": "1wsc4nuMbpHv",
        "outputId": "6606cb34-ff83-41b8-eeb6-3809f72e171c"
      },
      "execution_count": 7,
      "outputs": [
        {
          "name": "stdout",
          "output_type": "stream",
          "text": [
            "Enter the first number 35\n",
            "Enter the second number 45\n"
          ]
        }
      ]
    },
    {
      "cell_type": "code",
      "source": [
        "print(first_num)\n",
        "print(second_num)"
      ],
      "metadata": {
        "colab": {
          "base_uri": "https://localhost:8080/"
        },
        "id": "eeRc3Qtrb-Sd",
        "outputId": "c00cf778-280b-446e-b89a-112c0a3a9d59"
      },
      "execution_count": 8,
      "outputs": [
        {
          "output_type": "stream",
          "name": "stdout",
          "text": [
            "35\n",
            "45\n"
          ]
        }
      ]
    },
    {
      "cell_type": "code",
      "source": [
        "result = first_num + second_num\n",
        "print(result)"
      ],
      "metadata": {
        "colab": {
          "base_uri": "https://localhost:8080/"
        },
        "id": "ltbrVGEFcCLc",
        "outputId": "960ecac4-f364-47a3-8a15-afed86ae6203"
      },
      "execution_count": 9,
      "outputs": [
        {
          "output_type": "stream",
          "name": "stdout",
          "text": [
            "3545\n"
          ]
        }
      ]
    },
    {
      "cell_type": "code",
      "execution_count": 10,
      "metadata": {
        "colab": {
          "base_uri": "https://localhost:8080/"
        },
        "id": "SlnSGeEjGFEI",
        "outputId": "4b4aba3a-ea6e-4e2f-bb4b-8c20d64f5e51"
      },
      "outputs": [
        {
          "output_type": "stream",
          "name": "stdout",
          "text": [
            "Enter the namevikas\n",
            "Enter the number13545\n",
            "vikas 13545\n",
            "<class 'str'>\n",
            "<class 'str'>\n"
          ]
        }
      ],
      "source": [
        "name = input(\"Enter the name\")\n",
        "number = input(\"Enter the number\")\n",
        "print(name, number)\n",
        "print(type(name))\n",
        "print(type(number))"
      ]
    },
    {
      "cell_type": "markdown",
      "source": [
        "Whatever you enter as input, the input function converts it into a string. if you enter an integer value still **input()** function converts it into a string. You need to explicitly convert it into an integer in your code using **typecasting**. "
      ],
      "metadata": {
        "id": "1xqjdT0WdnXg"
      }
    },
    {
      "cell_type": "code",
      "source": [
        "first_num = int(input(\"Enter the first number \"))\n",
        "second_num = int(input(\"Enter the second number \"))\n",
        "\n",
        "result = first_num + second_num\n",
        "print(result)"
      ],
      "metadata": {
        "colab": {
          "base_uri": "https://localhost:8080/"
        },
        "id": "LEcM6DXuGTTz",
        "outputId": "8769cb48-6279-4bad-e700-54c4ea333759"
      },
      "execution_count": 12,
      "outputs": [
        {
          "output_type": "stream",
          "name": "stdout",
          "text": [
            "Enter the first number 45\n",
            "Enter the second number 24\n",
            "69\n"
          ]
        }
      ]
    },
    {
      "cell_type": "code",
      "source": [],
      "metadata": {
        "id": "rohWb7eJGzWD"
      },
      "execution_count": null,
      "outputs": []
    },
    {
      "cell_type": "code",
      "source": [],
      "metadata": {
        "id": "ZoJI7QGdMs9l"
      },
      "execution_count": null,
      "outputs": []
    }
  ]
}