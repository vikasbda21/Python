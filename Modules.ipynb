{
 "cells": [
  {
   "cell_type": "markdown",
   "metadata": {},
   "source": [
    "### What are modules?\n",
    "Consider a module to be the same as a code library.\n",
    "A file containing a set of functions you want to include in your application.\n",
    "\n",
    "Examples of python modules\n",
    "- Math\n",
    "- Random\n",
    "- os\n",
    "- time"
   ]
  },
  {
   "cell_type": "code",
   "execution_count": 2,
   "metadata": {},
   "outputs": [
    {
     "name": "stdout",
     "output_type": "stream",
     "text": [
      "\n",
      "Please wait a moment while I gather a list of all available modules...\n",
      "\n"
     ]
    },
    {
     "name": "stderr",
     "output_type": "stream",
     "text": [
      "C:\\ProgramData\\Anaconda3\\lib\\site-packages\\IPython\\kernel\\__init__.py:12: ShimWarning: The `IPython.kernel` package has been deprecated since IPython 4.0.You should import from ipykernel or jupyter_client instead.\n",
      "  warn(\"The `IPython.kernel` package has been deprecated since IPython 4.0.\"\n",
      "WARNING: AstropyDeprecationWarning: The private astropy._erfa module has been made into its own package, pyerfa, which is a dependency of astropy and can be imported directly using \"import erfa\" [astropy._erfa]\n",
      "C:\\ProgramData\\Anaconda3\\lib\\pkgutil.py:92: MatplotlibDeprecationWarning: \n",
      "The matplotlib.compat module was deprecated in Matplotlib 3.3 and will be removed two minor releases later.\n",
      "  __import__(info.name)\n",
      "C:\\ProgramData\\Anaconda3\\lib\\site-packages\\nltk\\twitter\\__init__.py:21: UserWarning: The twython library has not been installed. Some functionality from the twitter package will not be available.\n",
      "  warnings.warn(\n",
      "C:\\ProgramData\\Anaconda3\\lib\\site-packages\\skimage\\viewer\\utils\\__init__.py:1: UserWarning:\n",
      "\n",
      "Recommended matplotlib backend is `Agg` for full skimage.viewer functionality.\n",
      "\n",
      "C:\\ProgramData\\Anaconda3\\lib\\site-packages\\qtawesome\\iconic_font.py:313: UserWarning:\n",
      "\n",
      "You need to have a running QApplication to use QtAwesome!\n",
      "\n"
     ]
    },
    {
     "name": "stdout",
     "output_type": "stream",
     "text": [
      "_cffi_ext.c\r\n",
      "C:\\ProgramData\\Anaconda3\\lib\\site-packages\\zmq\\backend\\cffi\\__pycache__\\_cffi_ext.c(268): fatal error C1083: Cannot open include file: 'zmq.h': No such file or directory\r\n"
     ]
    },
    {
     "name": "stderr",
     "output_type": "stream",
     "text": [
      "C:\\ProgramData\\Anaconda3\\lib\\pkgutil.py:107: VisibleDeprecationWarning:\n",
      "\n",
      "zmq.eventloop.minitornado is deprecated in pyzmq 14.0 and will be removed.\n",
      "    Install tornado itself to use zmq with the tornado IOLoop.\n",
      "    \n",
      "\n"
     ]
    },
    {
     "name": "stdout",
     "output_type": "stream",
     "text": [
      "Cython              brain_subprocess    menuinst            sndhdr\n",
      "IPython             brain_threading     mimetypes           sniffio\n",
      "OpenSSL             brain_type          mistune             snowballstemmer\n",
      "PIL                 brain_typing        mkl                 socket\n",
      "PyQt5               brain_uuid          mkl_fft             socketserver\n",
      "__future__          brotli              mkl_random          socks\n",
      "_abc                bs4                 mmap                sockshandler\n",
      "_ast                builtins            mmapfile            sortedcollections\n",
      "_asyncio            bz2                 mmsystem            sortedcontainers\n",
      "_bisect             cProfile            mock                soupsieve\n",
      "_black_version      cachetools          modulefinder        spacy\n",
      "_blake2             calendar            more_itertools      spacy_legacy\n",
      "_bootlocale         catalogue           mpmath              spacy_loggers\n",
      "_bz2                certifi             msgpack             sphinx\n",
      "_cffi_backend       cffi                msilib              sphinxcontrib\n",
      "_codecs             cgi                 msvcrt              spyder\n",
      "_codecs_cn          cgitb               multipledispatch    spyder_kernels\n",
      "_codecs_hk          chardet             multiprocessing     sqlalchemy\n",
      "_codecs_iso2022     chart_studio        murmurhash          sqlite3\n",
      "_codecs_jp          chunk               mypy_extensions     sre_compile\n",
      "_codecs_kr          click               nacl                sre_constants\n",
      "_codecs_tw          cloudpickle         navigator_updater   sre_parse\n",
      "_collections        clyent              nbclassic           srsly\n",
      "_collections_abc    cmath               nbclient            ssl\n",
      "_compat_pickle      cmd                 nbconvert           sspi\n",
      "_compression        code                nbformat            sspicon\n",
      "_contextvars        codecs              nest_asyncio        stat\n",
      "_csv                codeop              netbios             statistics\n",
      "_ctypes             collections         netrc               statsmodels\n",
      "_ctypes_test        colorama            networkx            storemagic\n",
      "_datetime           colorsys            nltk                string\n",
      "_decimal            commctrl            nntplib             stringprep\n",
      "_distutils_hack     compileall          nose                struct\n",
      "_dummy_thread       comtypes            notebook            subprocess\n",
      "_elementtree        concurrent          nt                  sunau\n",
      "_functools          conda               ntpath              symbol\n",
      "_hashlib            conda_build         ntsecuritycon       sympy\n",
      "_heapq              conda_content_trust nturl2path          sympyprinting\n",
      "_imp                conda_env           numba               symtable\n",
      "_io                 conda_package_handling numbers             sys\n",
      "_json               conda_token         numexpr             sysconfig\n",
      "_locale             conda_verify        numpy               tables\n",
      "_lsprof             configparser        numpydoc            tabnanny\n",
      "_lzma               contextlib          oauthlib            tarfile\n",
      "_markupbase         contextlib2         odbc                tblib\n",
      "_md5                contextvars         olefile             telnetlib\n",
      "_msi                copy                opcode              tempfile\n",
      "_multibytecodec     copyreg             openpyxl            tenacity\n",
      "_multiprocessing    crypt               operator            terminado\n",
      "_nsis               cryptography        optparse            test\n",
      "_opcode             csv                 os                  test_data\n",
      "_operator           ctypes              packaging           test_pycosat\n",
      "_osx_support        curl                pandas              testpath\n",
      "_overlapped         curses              pandas_datareader   tests\n",
      "_pickle             cwp                 pandocfilters       text_unidecode\n",
      "_plotly_future_     cycler              paramiko            textdistance\n",
      "_plotly_utils       cymem               parser              textwrap\n",
      "_py_abc             cython              parso               thinc\n",
      "_pydecimal          cythonmagic         partd               this\n",
      "_pyio               cytoolz             past                threading\n",
      "_pyrsistent_version dask                path                threadpoolctl\n",
      "_pytest             dataclasses         pathlib             three_merge\n",
      "_queue              datetime            pathlib2            tifffile\n",
      "_random             dateutil            pathspec            time\n",
      "_sha1               dbi                 pathy               timeit\n",
      "_sha256             dbm                 patsy               timer\n",
      "_sha3               dde                 pdb                 tkinter\n",
      "_sha512             decimal             pep8                tlz\n",
      "_signal             decorator           perfmon             token\n",
      "_sitebuiltins       defusedxml          pexpect             tokenize\n",
      "_socket             diff_match_patch    pickle              toml\n",
      "_sqlite3            difflib             pickleshare         toolz\n",
      "_sre                dis                 pickletools         tornado\n",
      "_ssl                distributed         pip                 tqdm\n",
      "_stat               distutils           pipes               trace\n",
      "_statistics         doctest             pkg_resources       traceback\n",
      "_string             docutils            pkginfo             tracemalloc\n",
      "_strptime           dummy_threading     pkgutil             traitlets\n",
      "_struct             email               platform            tty\n",
      "_symtable           encodings           plistlib            turtle\n",
      "_system_path        ensurepip           plotly              turtledemo\n",
      "_testbuffer         entrypoints         plotlywidget        typed_ast\n",
      "_testcapi           enum                pluggy              typer\n",
      "_testconsole        erfa                ply                 types\n",
      "_testimportmultiple errno               poplib              typing\n",
      "_testinternalcapi   et_xmlfile          posixpath           typing_extensions\n",
      "_testmultiphase     fastcache           pprint              ujson\n",
      "_thread             faulthandler        preshed             unicodecsv\n",
      "_threading_local    filecmp             profile             unicodedata\n",
      "_tkinter            fileinput           prometheus_client   unittest\n",
      "_tracemalloc        filelock            prompt_toolkit      urllib\n",
      "_warnings           flake8              pstats              urllib3\n",
      "_weakref            flask               psutil              uu\n",
      "_weakrefset         fnmatch             pty                 uuid\n",
      "_win32sysloader     formatter           ptyprocess          vboxapi\n",
      "_winapi             fractions           pvectorc            venv\n",
      "_winxptheme         fsspec              py                  warnings\n",
      "_xxsubinterpreters  ftplib              py4j                wasabi\n",
      "_yaml               functools           py_compile          watchdog\n",
      "abc                 future              pyasn1              wave\n",
      "adodbapi            gc                  pyasn1_modules      wcwidth\n",
      "afxres              genericpath         pyclbr              weakref\n",
      "aifc                gensim              pycodestyle         webbrowser\n",
      "alabaster           getopt              pycosat             webencodings\n",
      "anaconda_navigator  getpass             pycparser           werkzeug\n",
      "anaconda_project    gettext             pycurl              wheel\n",
      "antigravity         gevent              pydantic            widgetsnbextension\n",
      "anyio               glob                pydoc               win2kras\n",
      "appdirs             glob2               pydoc_data          win32api\n",
      "argh                greenlet            pydocstyle          win32clipboard\n",
      "argon2              gzip                pyexpat             win32com\n",
      "argparse            h5py                pyflakes            win32con\n",
      "array               hashlib             pygments            win32console\n",
      "asn1crypto          heapdict            pylab               win32cred\n",
      "ast                 heapq               pylint              win32crypt\n",
      "astroid             hmac                pyls                win32cryptcon\n",
      "astropy             html                pyls_black          win32ctypes\n",
      "async_generator     html5lib            pyls_jsonrpc        win32event\n",
      "asynchat            http                pyls_spyder         win32evtlog\n",
      "asyncio             idlelib             pyodbc              win32evtlogutil\n",
      "asyncore            idna                pyparsing           win32file\n",
      "atexit              imagecodecs         pyreadline          win32gui\n",
      "atomicwrites        imageio             pyrsistent          win32gui_struct\n",
      "attr                imagesize           pyspark             win32help\n",
      "audioop             imaplib             pytest              win32inet\n",
      "autopep8            imghdr              pythoncom           win32inetcon\n",
      "autoreload          imp                 pytz                win32job\n",
      "babel               importlib           pywin               win32lz\n",
      "backcall            importlib_metadata  pywin32_bootstrap   win32net\n",
      "backports           iniconfig           pywin32_testutil    win32netcon\n",
      "base64              inspect             pywintypes          win32pdh\n",
      "bcrypt              intervaltree        pywt                win32pdhquery\n",
      "bdb                 io                  pyximport           win32pdhutil\n",
      "binascii            ipaddress           qdarkstyle          win32pipe\n",
      "binhex              ipykernel           qtawesome           win32print\n",
      "binstar_client      ipykernel_launcher  qtconsole           win32process\n",
      "bisect              ipython_genutils    qtpy                win32profile\n",
      "bitarray            ipywidgets          queue               win32ras\n",
      "bkcharts            isapi               quopri              win32rcparser\n",
      "black               isort               random              win32security\n",
      "blackd              isympy              rasutil             win32service\n",
      "bleach              itertools           re                  win32serviceutil\n",
      "blib2to3            itsdangerous        readline            win32timezone\n",
      "blis                jdcal               regcheck            win32trace\n",
      "bokeh               jedi                regex               win32traceutil\n",
      "boto                jinja2              regutil             win32transaction\n",
      "bottleneck          joblib              repo_cli            win32ts\n",
      "brain_argparse      json                reprlib             win32ui\n",
      "brain_attrs         json5               requests            win32uiole\n",
      "brain_boto3         jsonschema          requests_oauthlib   win32verstamp\n",
      "brain_builtin_inference jupyter             retrying            win32wnet\n",
      "brain_collections   jupyter_client      rlcompleter         win_inet_pton\n",
      "brain_crypt         jupyter_console     rmagic              win_unicode_console\n",
      "brain_curses        jupyter_core        rope                wincertstore\n",
      "brain_dataclasses   jupyter_packaging   rsa                 winerror\n",
      "brain_dateutil      jupyter_server      rtree               winioctlcon\n",
      "brain_fstrings      jupyterlab          ruamel_yaml         winnt\n",
      "brain_functools     jupyterlab_plotly   run                 winperf\n",
      "brain_gi            jupyterlab_pygments runpy               winpty\n",
      "brain_hashlib       jupyterlab_server   sched               winreg\n",
      "brain_http          jupyterlab_widgets  scipy               winsound\n",
      "brain_hypothesis    kaggle              scripts             winxpgui\n",
      "brain_io            keyring             seaborn             winxptheme\n",
      "brain_mechanize     keyword             secrets             wrapt\n",
      "brain_multiprocessing kiwisolver          select              wsgiref\n",
      "brain_namedtuple_enum langcodes           selectors           xdrlib\n",
      "brain_nose          lazy_object_proxy   send2trash          xlrd\n",
      "brain_numpy_core_fromnumeric lib2to3             servicemanager      xlsxwriter\n",
      "brain_numpy_core_function_base libarchive          setuptools          xlwings\n",
      "brain_numpy_core_multiarray libfuturize         shelve              xlwt\n",
      "brain_numpy_core_numeric libpasteurize       shlex               xml\n",
      "brain_numpy_core_numerictypes lief                shutil              xmlrpc\n",
      "brain_numpy_core_umath linecache           signal              xmltodict\n",
      "brain_numpy_ndarray llvmlite            simplegeneric       xxsubtype\n",
      "brain_numpy_random_mtrand locale              singledispatch      yaml\n",
      "brain_numpy_utils   locket              sip                 yapf\n",
      "brain_pkg_resources logging             sipconfig           yapftests\n",
      "brain_pytest        lxml                sipdistutils        zict\n",
      "brain_qt            lzma                site                zipapp\n",
      "brain_random        mailbox             six                 zipfile\n",
      "brain_re            mailcap             skimage             zipimport\n",
      "brain_responses     markupsafe          sklearn             zipp\n",
      "brain_scipy_signal  marshal             slugify             zlib\n",
      "brain_six           math                smart_open          zmq\n",
      "brain_sqlalchemy    matplotlib          smtpd               zope\n",
      "brain_ssl           mccabe              smtplib             \n",
      "\n",
      "Enter any module name to get more help.  Or, type \"modules spam\" to search\n",
      "for modules whose name or summary contain the string \"spam\".\n",
      "\n"
     ]
    }
   ],
   "source": [
    "help('modules')"
   ]
  },
  {
   "cell_type": "code",
   "execution_count": 36,
   "metadata": {},
   "outputs": [],
   "source": [
    "# import math module \n",
    "import math"
   ]
  },
  {
   "cell_type": "code",
   "execution_count": 25,
   "metadata": {},
   "outputs": [],
   "source": [
    "?math"
   ]
  },
  {
   "cell_type": "code",
   "execution_count": 37,
   "metadata": {},
   "outputs": [
    {
     "data": {
      "text/plain": [
       "3.141592653589793"
      ]
     },
     "execution_count": 37,
     "metadata": {},
     "output_type": "execute_result"
    }
   ],
   "source": [
    "math.pi"
   ]
  },
  {
   "cell_type": "code",
   "execution_count": 27,
   "metadata": {},
   "outputs": [
    {
     "data": {
      "text/plain": [
       "10.0"
      ]
     },
     "execution_count": 27,
     "metadata": {},
     "output_type": "execute_result"
    }
   ],
   "source": [
    "math.sqrt(100)"
   ]
  },
  {
   "cell_type": "code",
   "execution_count": 30,
   "metadata": {},
   "outputs": [
    {
     "data": {
      "text/plain": [
       "11.25"
      ]
     },
     "execution_count": 30,
     "metadata": {},
     "output_type": "execute_result"
    }
   ],
   "source": []
  },
  {
   "cell_type": "code",
   "execution_count": 33,
   "metadata": {},
   "outputs": [
    {
     "data": {
      "text/plain": [
       "3628800"
      ]
     },
     "execution_count": 33,
     "metadata": {},
     "output_type": "execute_result"
    }
   ],
   "source": [
    "math.factorial(10)"
   ]
  },
  {
   "cell_type": "code",
   "execution_count": 38,
   "metadata": {},
   "outputs": [
    {
     "data": {
      "text/plain": [
       "7"
      ]
     },
     "execution_count": 38,
     "metadata": {},
     "output_type": "execute_result"
    }
   ],
   "source": [
    "math.ceil(6.3)"
   ]
  },
  {
   "cell_type": "code",
   "execution_count": 39,
   "metadata": {},
   "outputs": [
    {
     "data": {
      "text/plain": [
       "6"
      ]
     },
     "execution_count": 39,
     "metadata": {},
     "output_type": "execute_result"
    }
   ],
   "source": [
    "math.floor(6.9)"
   ]
  },
  {
   "cell_type": "code",
   "execution_count": null,
   "metadata": {},
   "outputs": [],
   "source": []
  },
  {
   "cell_type": "code",
   "execution_count": 40,
   "metadata": {},
   "outputs": [],
   "source": [
    "# import random module\n",
    "import random"
   ]
  },
  {
   "cell_type": "code",
   "execution_count": 50,
   "metadata": {},
   "outputs": [
    {
     "data": {
      "text/plain": [
       "802"
      ]
     },
     "execution_count": 50,
     "metadata": {},
     "output_type": "execute_result"
    }
   ],
   "source": [
    "random.randint(1,1000)"
   ]
  },
  {
   "cell_type": "code",
   "execution_count": 60,
   "metadata": {},
   "outputs": [
    {
     "data": {
      "text/plain": [
       "[1, 2, 4, 3, 5]"
      ]
     },
     "execution_count": 60,
     "metadata": {},
     "output_type": "execute_result"
    }
   ],
   "source": [
    "a = [1,2,3,4,5]\n",
    "random.shuffle(a)\n",
    "a"
   ]
  },
  {
   "cell_type": "code",
   "execution_count": null,
   "metadata": {},
   "outputs": [],
   "source": []
  },
  {
   "cell_type": "code",
   "execution_count": 61,
   "metadata": {},
   "outputs": [],
   "source": [
    "# import time module\n",
    "import time"
   ]
  },
  {
   "cell_type": "code",
   "execution_count": 69,
   "metadata": {},
   "outputs": [
    {
     "data": {
      "text/plain": [
       "'Sun Sep  4 21:34:58 2022'"
      ]
     },
     "execution_count": 69,
     "metadata": {},
     "output_type": "execute_result"
    }
   ],
   "source": [
    "time.ctime()"
   ]
  },
  {
   "cell_type": "code",
   "execution_count": 73,
   "metadata": {},
   "outputs": [
    {
     "name": "stdout",
     "output_type": "stream",
     "text": [
      "Hello\n",
      "World\n"
     ]
    }
   ],
   "source": [
    "print(\"Hello\")\n",
    "time.sleep(1)\n",
    "print(\"World\")"
   ]
  },
  {
   "cell_type": "code",
   "execution_count": null,
   "metadata": {},
   "outputs": [],
   "source": []
  },
  {
   "cell_type": "code",
   "execution_count": 75,
   "metadata": {},
   "outputs": [],
   "source": [
    "# import os module\n",
    "import os"
   ]
  },
  {
   "cell_type": "code",
   "execution_count": 76,
   "metadata": {},
   "outputs": [
    {
     "data": {
      "text/plain": [
       "'C:\\\\Users\\\\VIKAS\\\\DS\\\\Data Science Batch 2022\\\\Python'"
      ]
     },
     "execution_count": 76,
     "metadata": {},
     "output_type": "execute_result"
    }
   ],
   "source": [
    "os.getcwd()"
   ]
  },
  {
   "cell_type": "code",
   "execution_count": 77,
   "metadata": {},
   "outputs": [
    {
     "data": {
      "text/plain": [
       "['.ipynb_checkpoints',\n",
       " 'control-flow.ipynb',\n",
       " 'Functions.ipynb',\n",
       " 'Modules.ipynb',\n",
       " 'Operators.ipynb',\n",
       " 'Python Basics.ipynb',\n",
       " 'python class.ipynb',\n",
       " 'Python.ipynb',\n",
       " 'Session 1.1 - Python-Installation and Basics.ipynb',\n",
       " 'Session 1.2 - String and list Objects.ipynb',\n",
       " 'taking-user-input-and-data-conversion.ipynb',\n",
       " 'Tuples.ipynb']"
      ]
     },
     "execution_count": 77,
     "metadata": {},
     "output_type": "execute_result"
    }
   ],
   "source": [
    "os.listdir()"
   ]
  },
  {
   "cell_type": "code",
   "execution_count": null,
   "metadata": {},
   "outputs": [],
   "source": []
  },
  {
   "cell_type": "code",
   "execution_count": null,
   "metadata": {},
   "outputs": [],
   "source": []
  },
  {
   "cell_type": "code",
   "execution_count": null,
   "metadata": {},
   "outputs": [],
   "source": []
  },
  {
   "cell_type": "code",
   "execution_count": null,
   "metadata": {},
   "outputs": [],
   "source": []
  },
  {
   "cell_type": "code",
   "execution_count": 23,
   "metadata": {},
   "outputs": [
    {
     "name": "stdout",
     "output_type": "stream",
     "text": [
      "Enter first name vikas\n",
      "Enter last name gupta\n",
      "Happy learning  vikas gupta\n"
     ]
    }
   ],
   "source": [
    "### String Formating\n",
    "first_name=input(\"Enter first name \")\n",
    "last_name=input(\"Enter last name \")\n",
    "print(\"Happy learning \",first_name,last_name)"
   ]
  },
  {
   "cell_type": "code",
   "execution_count": 24,
   "metadata": {},
   "outputs": [
    {
     "name": "stdout",
     "output_type": "stream",
     "text": [
      "Enter first name vikas\n",
      "Enter last name gupta\n",
      "My first name is vikas and last name is gupta\n"
     ]
    }
   ],
   "source": [
    "first_name=input(\"Enter first name \")\n",
    "last_name=input(\"Enter last name \")\n",
    "print(\"My first name is {} and last name is {}\".format(first_name, last_name))"
   ]
  },
  {
   "cell_type": "code",
   "execution_count": null,
   "metadata": {},
   "outputs": [],
   "source": [
    "A = int(input(\"Enter the value in a \"))\n",
    "B = int(input(\"Enter the value in a \"))\n",
    "c=A+B\n",
    "if c>0:\n",
    "    print(\"Number is +ve\")\n",
    "elif c==0:\n",
    "    print(\"Number is zero\")\n",
    "else:\n",
    "    print(\"uber is -ve\")"
   ]
  }
 ],
 "metadata": {
  "kernelspec": {
   "display_name": "Python 3",
   "language": "python",
   "name": "python3"
  },
  "language_info": {
   "codemirror_mode": {
    "name": "ipython",
    "version": 3
   },
   "file_extension": ".py",
   "mimetype": "text/x-python",
   "name": "python",
   "nbconvert_exporter": "python",
   "pygments_lexer": "ipython3",
   "version": "3.8.8"
  }
 },
 "nbformat": 4,
 "nbformat_minor": 4
}
