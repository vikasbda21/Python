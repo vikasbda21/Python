{
 "cells": [
  {
   "cell_type": "markdown",
   "id": "e1d80551",
   "metadata": {},
   "source": [
    "# Lists\n",
    "- The list is a sequence data type which is used to store the collection of data.\n",
    "- Python lists are mutable(its mean we can modify its element after it created).\n",
    "- The items in the list are separated with the comma (,) and enclosed with the square brackets []."
   ]
  },
  {
   "cell_type": "code",
   "execution_count": 34,
   "id": "454889fa",
   "metadata": {},
   "outputs": [
    {
     "name": "stdout",
     "output_type": "stream",
     "text": [
      "[]\n",
      "[1, 2, 3, 4, 5, 6]\n",
      "['Delhi', 'Mumbai', 'Pune', 'Bengaluru', 'Delhi']\n",
      "[33, 22, 77, 'Apple', 'Mango', 22.0, True]\n",
      "[2, 3, 4, [5, 6]]\n",
      "[[[1, 2], [3, 4]], [[5, 6], [7, 8]]]\n"
     ]
    }
   ],
   "source": [
    "# Creating  lists\n",
    "\n",
    "L = []   # empty list\n",
    "print(L)\n",
    "lst = [1,2,3,4,5,6]  #homogeneous (same type of item)\n",
    "print(lst)\n",
    "city_name = ['Delhi','Mumbai','Pune','Bengaluru','Delhi']\n",
    "print(city_name)\n",
    "mix_item = [33,22,77,'Apple','Mango',22.0,True]  #hetrogeneous(different type of item)\n",
    "print(mix_item)\n",
    "\n",
    "l2 = list('Hello')  # type casting\n",
    "print\n",
    "# multi-Dimentionality\n",
    "l3 = [2,3,4,[5,6]]  # lists of list \n",
    "L3 = [[[1,2],[3,4]],[[5,6],[7,8]]]\n",
    "print(l3)\n",
    "print(L3)"
   ]
  },
  {
   "cell_type": "markdown",
   "id": "09009894",
   "metadata": {},
   "source": [
    "# Accessing item from lists"
   ]
  },
  {
   "cell_type": "code",
   "execution_count": 26,
   "id": "906b2798",
   "metadata": {},
   "outputs": [
    {
     "data": {
      "text/plain": [
       "5"
      ]
     },
     "execution_count": 26,
     "metadata": {},
     "output_type": "execute_result"
    }
   ],
   "source": [
    "# indexing\n",
    "lst = [1,2,3,4,5,6]\n",
    "lst[4]"
   ]
  },
  {
   "cell_type": "code",
   "execution_count": 41,
   "id": "425cba5a",
   "metadata": {},
   "outputs": [
    {
     "data": {
      "text/plain": [
       "[2, 3, 4, [5, 6]]"
      ]
     },
     "execution_count": 41,
     "metadata": {},
     "output_type": "execute_result"
    }
   ],
   "source": [
    "l3 = [2,3,4,[5,6]]\n",
    "l3"
   ]
  },
  {
   "cell_type": "code",
   "execution_count": 29,
   "id": "2040ed02",
   "metadata": {},
   "outputs": [
    {
     "data": {
      "text/plain": [
       "[5, 6]"
      ]
     },
     "execution_count": 29,
     "metadata": {},
     "output_type": "execute_result"
    }
   ],
   "source": [
    "l3[-1]"
   ]
  },
  {
   "cell_type": "code",
   "execution_count": 31,
   "id": "322985a0",
   "metadata": {},
   "outputs": [
    {
     "data": {
      "text/plain": [
       "6"
      ]
     },
     "execution_count": 31,
     "metadata": {},
     "output_type": "execute_result"
    }
   ],
   "source": [
    "l3[3][1]"
   ]
  },
  {
   "cell_type": "code",
   "execution_count": 39,
   "id": "3a0cb51a",
   "metadata": {},
   "outputs": [
    {
     "data": {
      "text/plain": [
       "[[[1, 2], [3, 4]], [[5, 6], [7, 8]]]"
      ]
     },
     "execution_count": 39,
     "metadata": {},
     "output_type": "execute_result"
    }
   ],
   "source": [
    "L3"
   ]
  },
  {
   "cell_type": "code",
   "execution_count": 44,
   "id": "7ad66f80",
   "metadata": {},
   "outputs": [
    {
     "data": {
      "text/plain": [
       "[[1, 2], [3, 4]]"
      ]
     },
     "execution_count": 44,
     "metadata": {},
     "output_type": "execute_result"
    }
   ],
   "source": [
    "L3[0]"
   ]
  },
  {
   "cell_type": "code",
   "execution_count": 46,
   "id": "29b755a7",
   "metadata": {
    "scrolled": true
   },
   "outputs": [
    {
     "data": {
      "text/plain": [
       "[1, 2]"
      ]
     },
     "execution_count": 46,
     "metadata": {},
     "output_type": "execute_result"
    }
   ],
   "source": [
    "L3[0][0]"
   ]
  },
  {
   "cell_type": "code",
   "execution_count": 47,
   "id": "306e15c3",
   "metadata": {},
   "outputs": [
    {
     "data": {
      "text/plain": [
       "8"
      ]
     },
     "execution_count": 47,
     "metadata": {},
     "output_type": "execute_result"
    }
   ],
   "source": [
    "L3[1][1][1]"
   ]
  },
  {
   "cell_type": "code",
   "execution_count": 48,
   "id": "e692ea0e",
   "metadata": {},
   "outputs": [],
   "source": [
    "# Slicing"
   ]
  },
  {
   "cell_type": "code",
   "execution_count": 51,
   "id": "9509b223",
   "metadata": {},
   "outputs": [
    {
     "data": {
      "text/plain": [
       "[1, 2, 3, 4, 5, 6]"
      ]
     },
     "execution_count": 51,
     "metadata": {},
     "output_type": "execute_result"
    }
   ],
   "source": [
    "lst"
   ]
  },
  {
   "cell_type": "code",
   "execution_count": 54,
   "id": "6a5e5d69",
   "metadata": {},
   "outputs": [
    {
     "data": {
      "text/plain": [
       "[6, 5, 4, 3, 2, 1]"
      ]
     },
     "execution_count": 54,
     "metadata": {},
     "output_type": "execute_result"
    }
   ],
   "source": [
    "lst[::-1]"
   ]
  },
  {
   "cell_type": "code",
   "execution_count": null,
   "id": "4470c70f",
   "metadata": {},
   "outputs": [],
   "source": []
  },
  {
   "cell_type": "code",
   "execution_count": null,
   "id": "2926de6a",
   "metadata": {},
   "outputs": [],
   "source": []
  },
  {
   "cell_type": "markdown",
   "id": "0ee04b33",
   "metadata": {},
   "source": [
    "## Editing & Deleting in lists"
   ]
  },
  {
   "cell_type": "code",
   "execution_count": 68,
   "id": "a8e72c02",
   "metadata": {},
   "outputs": [],
   "source": [
    "L1 = [1,2,3,4,5,6]"
   ]
  },
  {
   "cell_type": "code",
   "execution_count": 69,
   "id": "d6eb08b6",
   "metadata": {},
   "outputs": [
    {
     "name": "stdout",
     "output_type": "stream",
     "text": [
      "[1, 2, 3, 4, 500, 6]\n"
     ]
    }
   ],
   "source": [
    "L1[-2]=500\n",
    "print(L1)"
   ]
  },
  {
   "cell_type": "code",
   "execution_count": 70,
   "id": "f7494ca1",
   "metadata": {},
   "outputs": [],
   "source": [
    "# Updating multiple items\n",
    "L1[1:4]=[200,300,400]"
   ]
  },
  {
   "cell_type": "code",
   "execution_count": 71,
   "id": "35a97e75",
   "metadata": {},
   "outputs": [
    {
     "name": "stdout",
     "output_type": "stream",
     "text": [
      "[1, 200, 300, 400, 500, 6]\n"
     ]
    }
   ],
   "source": [
    "print(L1)"
   ]
  },
  {
   "cell_type": "code",
   "execution_count": null,
   "id": "9ed8e189",
   "metadata": {},
   "outputs": [],
   "source": []
  },
  {
   "cell_type": "markdown",
   "id": "d3f385c5",
   "metadata": {},
   "source": [
    "### Adding new item in a list\n",
    "- Append\n",
    "- extend\n",
    "- insert"
   ]
  },
  {
   "cell_type": "code",
   "execution_count": 72,
   "id": "d8fd1c3b",
   "metadata": {},
   "outputs": [
    {
     "data": {
      "text/plain": [
       "[1, 200, 300, 400, 500, 6]"
      ]
     },
     "execution_count": 72,
     "metadata": {},
     "output_type": "execute_result"
    }
   ],
   "source": [
    "L1"
   ]
  },
  {
   "cell_type": "code",
   "execution_count": 76,
   "id": "a6861e00",
   "metadata": {},
   "outputs": [
    {
     "name": "stdout",
     "output_type": "stream",
     "text": [
      "[1, 200, 300, 400, 500, 6, 700, 800, 900, 800, 900, 'Goa']\n"
     ]
    }
   ],
   "source": [
    "L1.append('Goa')\n",
    "print(L1)"
   ]
  },
  {
   "cell_type": "code",
   "execution_count": 77,
   "id": "32e78471",
   "metadata": {},
   "outputs": [],
   "source": [
    "L2 = [100,200,300]"
   ]
  },
  {
   "cell_type": "code",
   "execution_count": 78,
   "id": "61bb6238",
   "metadata": {},
   "outputs": [],
   "source": [
    "L2.extend([400,500,600])"
   ]
  },
  {
   "cell_type": "code",
   "execution_count": 79,
   "id": "4b0d41d0",
   "metadata": {},
   "outputs": [
    {
     "data": {
      "text/plain": [
       "[100, 200, 300, 400, 500, 600]"
      ]
     },
     "execution_count": 79,
     "metadata": {},
     "output_type": "execute_result"
    }
   ],
   "source": [
    "L2"
   ]
  },
  {
   "cell_type": "code",
   "execution_count": 81,
   "id": "3ae9b76a",
   "metadata": {},
   "outputs": [
    {
     "data": {
      "text/plain": [
       "[100, 150, 200, 300, 400, 'Hello', 500, 600]"
      ]
     },
     "execution_count": 81,
     "metadata": {},
     "output_type": "execute_result"
    }
   ],
   "source": [
    "L2.insert(5,'Hello')\n",
    "L2"
   ]
  },
  {
   "cell_type": "markdown",
   "id": "ea6cfb3f",
   "metadata": {},
   "source": [
    "#### Delete\n",
    "- del\n",
    "- remove\n",
    "- pop\n",
    "- clear"
   ]
  },
  {
   "cell_type": "code",
   "execution_count": 108,
   "id": "df0d4c43",
   "metadata": {},
   "outputs": [],
   "source": [
    "L2 = [1,2,3,4,5,6,7,8,9,10]"
   ]
  },
  {
   "cell_type": "code",
   "execution_count": 107,
   "id": "85bc6cb8",
   "metadata": {},
   "outputs": [],
   "source": [
    "del L2[9]"
   ]
  },
  {
   "cell_type": "code",
   "execution_count": 105,
   "id": "616d22a7",
   "metadata": {},
   "outputs": [
    {
     "name": "stdout",
     "output_type": "stream",
     "text": [
      "[1, 2, 3, 4, 5, 6, 7, 8, 9]\n",
      "[[[1, 2], [3, 4]], [[5, 6], [7, 8]]]\n"
     ]
    }
   ],
   "source": [
    "print(L2)\n",
    "print(L3)"
   ]
  },
  {
   "cell_type": "code",
   "execution_count": 93,
   "id": "3006ae55",
   "metadata": {},
   "outputs": [
    {
     "data": {
      "text/plain": [
       "[2, 3, 5]"
      ]
     },
     "execution_count": 93,
     "metadata": {},
     "output_type": "execute_result"
    }
   ],
   "source": [
    "L2.remove(4)\n",
    "L2"
   ]
  },
  {
   "cell_type": "code",
   "execution_count": 113,
   "id": "bfaab735",
   "metadata": {},
   "outputs": [
    {
     "data": {
      "text/plain": [
       "8"
      ]
     },
     "execution_count": 113,
     "metadata": {},
     "output_type": "execute_result"
    }
   ],
   "source": [
    "L2.pop()"
   ]
  },
  {
   "cell_type": "code",
   "execution_count": 114,
   "id": "14f8a09f",
   "metadata": {},
   "outputs": [
    {
     "data": {
      "text/plain": [
       "[1, 2, 3, 4, 5, 6, 7]"
      ]
     },
     "execution_count": 114,
     "metadata": {},
     "output_type": "execute_result"
    }
   ],
   "source": [
    "L2"
   ]
  },
  {
   "cell_type": "code",
   "execution_count": 115,
   "id": "2027cb85",
   "metadata": {},
   "outputs": [],
   "source": [
    "L2 = [1,2,3,4,5,6,7,8,9,10]"
   ]
  },
  {
   "cell_type": "code",
   "execution_count": 116,
   "id": "5ccdb906",
   "metadata": {},
   "outputs": [
    {
     "data": {
      "text/plain": [
       "[1, 2, 3, 4, 5, 6, 7, 8, 9, 10]"
      ]
     },
     "execution_count": 116,
     "metadata": {},
     "output_type": "execute_result"
    }
   ],
   "source": [
    "L2"
   ]
  },
  {
   "cell_type": "code",
   "execution_count": 118,
   "id": "67bae786",
   "metadata": {},
   "outputs": [
    {
     "data": {
      "text/plain": [
       "[]"
      ]
     },
     "execution_count": 118,
     "metadata": {},
     "output_type": "execute_result"
    }
   ],
   "source": [
    "L2.clear()\n",
    "L2"
   ]
  },
  {
   "cell_type": "code",
   "execution_count": 120,
   "id": "b23e0612",
   "metadata": {},
   "outputs": [],
   "source": [
    "lst = [1,2,3,4,5,6]  \n",
    "\n",
    "city_name = ['Delhi','Mumbai','Pune','Bengaluru','Delhi']"
   ]
  },
  {
   "cell_type": "code",
   "execution_count": 119,
   "id": "fb72f8dc",
   "metadata": {},
   "outputs": [
    {
     "data": {
      "text/plain": [
       "[1, 2, 3, 4, 5, 6, 'Delhi', 'Mumbai', 'Pune', 'Bengaluru', 'Delhi']"
      ]
     },
     "execution_count": 119,
     "metadata": {},
     "output_type": "execute_result"
    }
   ],
   "source": [
    "lst + city_name"
   ]
  },
  {
   "cell_type": "code",
   "execution_count": 121,
   "id": "87539c55",
   "metadata": {},
   "outputs": [
    {
     "data": {
      "text/plain": [
       "[1, 2, 3, 4, 5, 6, 1, 2, 3, 4, 5, 6, 1, 2, 3, 4, 5, 6]"
      ]
     },
     "execution_count": 121,
     "metadata": {},
     "output_type": "execute_result"
    }
   ],
   "source": [
    "lst*3"
   ]
  },
  {
   "cell_type": "code",
   "execution_count": 123,
   "id": "2a0397fd",
   "metadata": {},
   "outputs": [
    {
     "name": "stdout",
     "output_type": "stream",
     "text": [
      "Delhi\n",
      "Mumbai\n",
      "Pune\n",
      "Bengaluru\n",
      "Delhi\n"
     ]
    }
   ],
   "source": [
    "city_name = ['Delhi','Mumbai','Pune','Bengaluru','Delhi']\n",
    "for city in city_name:\n",
    "    print(city)"
   ]
  },
  {
   "cell_type": "code",
   "execution_count": 132,
   "id": "6bbf99bd",
   "metadata": {},
   "outputs": [
    {
     "name": "stdout",
     "output_type": "stream",
     "text": [
      "22\n",
      "73\n",
      "128\n"
     ]
    }
   ],
   "source": [
    "lst = [22,4,51,31,55,44]\n",
    "sum1=0\n",
    "for i in lst[::2]:\n",
    "    sum1=sum1+i\n",
    "    print(sum1)"
   ]
  },
  {
   "cell_type": "code",
   "execution_count": null,
   "id": "dc225ff0",
   "metadata": {},
   "outputs": [],
   "source": []
  },
  {
   "cell_type": "code",
   "execution_count": null,
   "id": "7f0ab2f2",
   "metadata": {},
   "outputs": [],
   "source": []
  },
  {
   "cell_type": "code",
   "execution_count": null,
   "id": "343d4ce8",
   "metadata": {},
   "outputs": [],
   "source": []
  },
  {
   "cell_type": "code",
   "execution_count": null,
   "id": "f9a17062",
   "metadata": {},
   "outputs": [],
   "source": []
  },
  {
   "cell_type": "code",
   "execution_count": null,
   "id": "f49a25da",
   "metadata": {},
   "outputs": [],
   "source": []
  },
  {
   "cell_type": "markdown",
   "id": "a76f59a3",
   "metadata": {},
   "source": [
    "# Tuple\n",
    "- A tuple contains a group of elements which can be same of differrent types.\n",
    "- Tuples are immutable(read-only which means you can't modify it's elements ).\n",
    "- It occupies less memory compare to List.\n",
    "- Tuples are represented by using parantheses().\n",
    "\n",
    " Ex:- tup1 = (12,36,45,78,85,'Data Einstein')"
   ]
  },
  {
   "cell_type": "code",
   "execution_count": 1,
   "id": "f37ed447",
   "metadata": {},
   "outputs": [
    {
     "name": "stdout",
     "output_type": "stream",
     "text": [
      "(12, 45, 36, 78, 85)\n",
      "(12, 36, 45, 78, 85, 'Data Einstein', True)\n",
      "<class 'tuple'>\n"
     ]
    }
   ],
   "source": [
    "# Create tuple by writing elements separeted by commas inside paranthese\n",
    "tup1 = (12,45,36,78,85)   #homogeneous(all of the same type)\n",
    "print(tup1)\n",
    "tup2 = (12,36,45,78,85,'Data Einstein',True)   #heterogenous(different kinds of elements)\n",
    "print(tup2)\n",
    "print(type(tup1))"
   ]
  },
  {
   "cell_type": "code",
   "execution_count": null,
   "id": "1aec33b4",
   "metadata": {},
   "outputs": [],
   "source": []
  },
  {
   "cell_type": "code",
   "execution_count": 29,
   "id": "59dfd57c",
   "metadata": {},
   "outputs": [
    {
     "data": {
      "text/plain": [
       "(2, 3, 4, (6, 9))"
      ]
     },
     "execution_count": 29,
     "metadata": {},
     "output_type": "execute_result"
    }
   ],
   "source": [
    "# 2D Tuples\n",
    "t3 = (2,3,4,(6,9))\n",
    "t3"
   ]
  },
  {
   "cell_type": "code",
   "execution_count": 32,
   "id": "04ea4d4c",
   "metadata": {},
   "outputs": [],
   "source": [
    "# Sinle element tuple\n",
    "t4 = (3)"
   ]
  },
  {
   "cell_type": "code",
   "execution_count": null,
   "id": "6b10b845",
   "metadata": {},
   "outputs": [],
   "source": [
    "print(type(t4))"
   ]
  },
  {
   "cell_type": "code",
   "execution_count": 35,
   "id": "2190592b",
   "metadata": {},
   "outputs": [],
   "source": [
    "# Create tuple using type conversion\n",
    "T5 = tuple([12,45,36,78,85])"
   ]
  },
  {
   "cell_type": "code",
   "execution_count": 23,
   "id": "9d196b46",
   "metadata": {},
   "outputs": [
    {
     "data": {
      "text/plain": [
       "12"
      ]
     },
     "execution_count": 23,
     "metadata": {},
     "output_type": "execute_result"
    }
   ],
   "source": [
    "# accessing tuple's element \n",
    "tup1[0]"
   ]
  },
  {
   "cell_type": "code",
   "execution_count": 24,
   "id": "2cf47bc4",
   "metadata": {},
   "outputs": [],
   "source": [
    "# Add element into the tuple\n",
    "lst1 = list(tup1)"
   ]
  },
  {
   "cell_type": "code",
   "execution_count": 26,
   "id": "2e3926a9",
   "metadata": {},
   "outputs": [],
   "source": [
    "lst1[0]=10"
   ]
  },
  {
   "cell_type": "code",
   "execution_count": 27,
   "id": "92a211cf",
   "metadata": {},
   "outputs": [
    {
     "data": {
      "text/plain": [
       "10"
      ]
     },
     "execution_count": 27,
     "metadata": {},
     "output_type": "execute_result"
    }
   ],
   "source": [
    "lst1[0]"
   ]
  },
  {
   "cell_type": "code",
   "execution_count": 28,
   "id": "04076c60",
   "metadata": {},
   "outputs": [
    {
     "data": {
      "text/plain": [
       "[10, 45, 36, 78, 85, 'Data Einstein']"
      ]
     },
     "execution_count": 28,
     "metadata": {},
     "output_type": "execute_result"
    }
   ],
   "source": [
    "lst1"
   ]
  }
 ],
 "metadata": {
  "kernelspec": {
   "display_name": "Python 3",
   "language": "python",
   "name": "python3"
  },
  "language_info": {
   "codemirror_mode": {
    "name": "ipython",
    "version": 3
   },
   "file_extension": ".py",
   "mimetype": "text/x-python",
   "name": "python",
   "nbconvert_exporter": "python",
   "pygments_lexer": "ipython3",
   "version": "3.8.8"
  }
 },
 "nbformat": 4,
 "nbformat_minor": 5
}
