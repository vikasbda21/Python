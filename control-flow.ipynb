{
 "cells": [
  {
   "cell_type": "markdown",
   "id": "1d3f392b",
   "metadata": {},
   "source": [
    "### Python: Flow Control\n",
    "1. if-else \n",
    "2. Nested if-else\n",
    "3. while loop\n",
    "4. for loop\n",
    "5. break\n",
    "6. continue"
   ]
  },
  {
   "cell_type": "markdown",
   "id": "70bc4e58",
   "metadata": {},
   "source": [
    "- if statement is used to decide whether a certain statement or block of statements will be execute or not.\n",
    "- **Indentation:** Python uses indentation to identify a block."
   ]
  },
  {
   "cell_type": "code",
   "execution_count": 9,
   "id": "34eeaa6c",
   "metadata": {},
   "outputs": [
    {
     "name": "stdout",
     "output_type": "stream",
     "text": [
      "Enter a number 45\n",
      "45  odd Number\n"
     ]
    }
   ],
   "source": [
    "num = int(input('Enter a number '))\n",
    "\n",
    "if num%2==0:\n",
    "    print('Even Number')\n",
    "else:\n",
    "    print(num,' odd Number')"
   ]
  },
  {
   "cell_type": "code",
   "execution_count": 10,
   "id": "62965fa4",
   "metadata": {},
   "outputs": [
    {
     "name": "stdout",
     "output_type": "stream",
     "text": [
      "Enter a number6\n",
      "This is valid statement in elif\n"
     ]
    }
   ],
   "source": [
    "# if...elif...else\n",
    "\n",
    "num1 = int(input('Enter a number'))\n",
    "\n",
    "if num1<10 and num1==10:\n",
    "    print('This is valid statement')\n",
    "# else-if\n",
    "elif num1<8:\n",
    "    print('This is valid statement in elif')\n",
    "else:\n",
    "    print('This will be gime a default statemet')"
   ]
  },
  {
   "cell_type": "code",
   "execution_count": 13,
   "id": "7e327f96",
   "metadata": {},
   "outputs": [
    {
     "name": "stdout",
     "output_type": "stream",
     "text": [
      "Enter a number45\n",
      "Positive number\n"
     ]
    }
   ],
   "source": [
    "# Nested if statement\n",
    "num1 = int(input('Enter a number'))\n",
    "if num1>=0:\n",
    "    if num1==0:\n",
    "        print(\"Zero\")\n",
    "    else:\n",
    "        print(\"Positive number\")\n",
    "else:\n",
    "    print('Negative number')"
   ]
  },
  {
   "cell_type": "code",
   "execution_count": 16,
   "id": "08514c6d",
   "metadata": {},
   "outputs": [
    {
     "name": "stdout",
     "output_type": "stream",
     "text": [
      "Enter the email abc@jkkjcenkj.com\n",
      "Enter the password123456\n",
      "Incorrect credentials\n"
     ]
    }
   ],
   "source": [
    "# Nested if-else\n",
    "# email abc@gmail.com, password 123456\n",
    "\n",
    "email = input('Enter the email ')\n",
    "password = input('Enter the password')\n",
    "\n",
    "if email == 'abc@gmail.com' and password == '123456':\n",
    "    print('Welcome')\n",
    "    \n",
    "elif email == 'abc@gmail.com' and password != '123456':\n",
    "    print('password incorrect')\n",
    "    password = input('Enter password again')\n",
    "    \n",
    "    if password == '123456 \n",
    "        print('Finally correct')\n",
    "    else:\n",
    "        print('still incorrect')\n",
    "        \n",
    "else:\n",
    "    print('Incorrect credentials')"
   ]
  },
  {
   "cell_type": "code",
   "execution_count": null,
   "id": "27dfe555",
   "metadata": {},
   "outputs": [],
   "source": []
  },
  {
   "cell_type": "code",
   "execution_count": 16,
   "id": "1c5e2bbc",
   "metadata": {},
   "outputs": [],
   "source": [
    "### while loop syntax\n",
    "while condition:\n",
    "    code"
   ]
  },
  {
   "cell_type": "code",
   "execution_count": 25,
   "id": "c86740fd",
   "metadata": {},
   "outputs": [
    {
     "name": "stdout",
     "output_type": "stream",
     "text": [
      "Enter a number 14\n",
      "14  * 1 = 14\n",
      "14  * 2 = 28\n",
      "14  * 3 = 42\n",
      "14  * 4 = 56\n",
      "14  * 5 = 70\n",
      "14  * 6 = 84\n",
      "14  * 7 = 98\n",
      "14  * 8 = 112\n",
      "14  * 9 = 126\n",
      "14  * 10 = 140\n"
     ]
    }
   ],
   "source": [
    "num = int(input('Enter a number '))\n",
    "i=1\n",
    "while i<=10:\n",
    "    print(num,\"\",\"*\",i,\"=\",num*i)\n",
    "    i+=1  # i = i+1"
   ]
  },
  {
   "cell_type": "code",
   "execution_count": null,
   "id": "387aa2d3",
   "metadata": {},
   "outputs": [],
   "source": []
  },
  {
   "cell_type": "code",
   "execution_count": null,
   "id": "4a25ef9e",
   "metadata": {},
   "outputs": [],
   "source": [
    "## for loop syntax\n",
    "for i in range():   \n",
    "    code"
   ]
  },
  {
   "cell_type": "markdown",
   "id": "fe90e9ce",
   "metadata": {},
   "source": [
    "Python **range()** is a built-in function, it gives a sequence of numbers based on the start and stop index given."
   ]
  },
  {
   "cell_type": "code",
   "execution_count": null,
   "id": "7d6f4fd1",
   "metadata": {},
   "outputs": [],
   "source": [
    "# range(start, stop, step)"
   ]
  },
  {
   "cell_type": "code",
   "execution_count": 40,
   "id": "2b999ec4",
   "metadata": {},
   "outputs": [
    {
     "data": {
      "text/plain": [
       "[1, 2, 3, 4, 5, 6, 7, 8, 9, 10]"
      ]
     },
     "execution_count": 40,
     "metadata": {},
     "output_type": "execute_result"
    }
   ],
   "source": [
    "list(range(1,11))"
   ]
  },
  {
   "cell_type": "code",
   "execution_count": 34,
   "id": "3afcaaac",
   "metadata": {},
   "outputs": [
    {
     "data": {
      "text/plain": [
       "[0, 1]"
      ]
     },
     "execution_count": 34,
     "metadata": {},
     "output_type": "execute_result"
    }
   ],
   "source": [
    "list(range(2))"
   ]
  },
  {
   "cell_type": "code",
   "execution_count": 8,
   "id": "30bfae49",
   "metadata": {},
   "outputs": [
    {
     "data": {
      "text/plain": [
       "[1, 3, 5, 7, 9, 11]"
      ]
     },
     "execution_count": 8,
     "metadata": {},
     "output_type": "execute_result"
    }
   ],
   "source": [
    "list(range(1,12,2))"
   ]
  },
  {
   "cell_type": "code",
   "execution_count": 41,
   "id": "faffcf54",
   "metadata": {},
   "outputs": [
    {
     "data": {
      "text/plain": [
       "range(0, -12, -1)"
      ]
     },
     "execution_count": 41,
     "metadata": {},
     "output_type": "execute_result"
    }
   ],
   "source": [
    "range(0,-12,-1)"
   ]
  },
  {
   "cell_type": "code",
   "execution_count": 43,
   "id": "913c1ae4",
   "metadata": {},
   "outputs": [
    {
     "name": "stdout",
     "output_type": "stream",
     "text": [
      "1\n",
      "3\n",
      "5\n",
      "7\n",
      "9\n"
     ]
    }
   ],
   "source": [
    "for i in range(1,11,2):\n",
    "    print(i)"
   ]
  },
  {
   "cell_type": "code",
   "execution_count": 44,
   "id": "5a655c0d",
   "metadata": {},
   "outputs": [
    {
     "name": "stdout",
     "output_type": "stream",
     "text": [
      "12\n",
      "5\n",
      "56\n",
      "58\n",
      "4\n"
     ]
    }
   ],
   "source": [
    "lst = [12,5,56,58,4]\n",
    "for num in  lst:\n",
    "    print(num)"
   ]
  },
  {
   "cell_type": "code",
   "execution_count": 48,
   "id": "57a55585",
   "metadata": {},
   "outputs": [
    {
     "name": "stdout",
     "output_type": "stream",
     "text": [
      "Apple\n",
      "banana\n",
      "cherry\n",
      "papaya\n"
     ]
    }
   ],
   "source": [
    "fruits = ['Apple', 'banana','cherry',\"papaya\"]\n",
    "for fruit in fruits:\n",
    "    print(fruit)"
   ]
  },
  {
   "cell_type": "code",
   "execution_count": 50,
   "id": "d1f9f70b",
   "metadata": {},
   "outputs": [
    {
     "name": "stdout",
     "output_type": "stream",
     "text": [
      "Apple\n",
      "banana\n"
     ]
    }
   ],
   "source": [
    "# break statement\n",
    "fruits = ['Apple', 'banana','cherry',\"papaya\"]\n",
    "for fruit in fruits:\n",
    "    if fruit == 'cherry':\n",
    "        break\n",
    "    print(fruit)"
   ]
  },
  {
   "cell_type": "code",
   "execution_count": 52,
   "id": "135732e9",
   "metadata": {},
   "outputs": [
    {
     "name": "stdout",
     "output_type": "stream",
     "text": [
      "Apple\n",
      "cherry\n",
      "papaya\n"
     ]
    }
   ],
   "source": [
    "# continue statement\n",
    "fruits = ['Apple', 'banana','cherry',\"papaya\"]\n",
    "for fruit in fruits:\n",
    "    if fruit == 'banana':\n",
    "        continue\n",
    "    print(fruit)"
   ]
  },
  {
   "cell_type": "code",
   "execution_count": null,
   "id": "ae002de5",
   "metadata": {},
   "outputs": [],
   "source": []
  },
  {
   "cell_type": "code",
   "execution_count": null,
   "id": "7894788d",
   "metadata": {},
   "outputs": [],
   "source": []
  },
  {
   "cell_type": "code",
   "execution_count": null,
   "id": "31386370",
   "metadata": {},
   "outputs": [],
   "source": []
  },
  {
   "cell_type": "markdown",
   "id": "f1a120c6",
   "metadata": {},
   "source": [
    "# Practice Questions\n",
    "1. Take two int values from user and print greatest among them.\n",
    "2. Write a program to check whether a person is eligible for voting or not. (accept age from user)\n",
    "3. Write a program to check whether a number is divisible by 7 or not.\n",
    "4. Write a program to display \"Hello\" if a number entered by user is a multiple of five , \n",
    "   otherwise print \"Bye\".\n",
    "\n"
   ]
  },
  {
   "cell_type": "markdown",
   "id": "4805320d",
   "metadata": {},
   "source": [
    "# Assignment\n",
    "3. Write a program to find the largest number out of three numbers excepted from user.\n",
    "4. Write a program to accept percentage from the user and display the grade:\n",
    "         Marks                                    Grade\n",
    "         > 90                                         A\n",
    "         > 80 and <= 90                               B\n",
    "         >= 60 and <= 80                              C\n",
    "         below 60                                     D"
   ]
  },
  {
   "cell_type": "code",
   "execution_count": null,
   "id": "bde5a9da",
   "metadata": {},
   "outputs": [],
   "source": []
  }
 ],
 "metadata": {
  "kernelspec": {
   "display_name": "Python 3",
   "language": "python",
   "name": "python3"
  },
  "language_info": {
   "codemirror_mode": {
    "name": "ipython",
    "version": 3
   },
   "file_extension": ".py",
   "mimetype": "text/x-python",
   "name": "python",
   "nbconvert_exporter": "python",
   "pygments_lexer": "ipython3",
   "version": "3.8.8"
  }
 },
 "nbformat": 4,
 "nbformat_minor": 5
}
